{
 "cells": [
  {
   "cell_type": "code",
   "execution_count": 8,
   "metadata": {},
   "outputs": [],
   "source": [
    "import pandas as pd"
   ]
  },
  {
   "cell_type": "markdown",
   "metadata": {},
   "source": [
    "# Python으로 배우는 Algorithm 기초"
   ]
  },
  {
   "cell_type": "markdown",
   "metadata": {},
   "source": [
    "## Ch 1.1  알고리즘이란?"
   ]
  },
  {
   "cell_type": "markdown",
   "metadata": {},
   "source": [
    "### (1) 알고리즘이란 무엇인가?\n",
    "\n",
    "#### 1) 정의\n",
    ": 어떤 문제를 컴퓨터로 풀기 위한 효율적인 절차, 문제를 푸는 단계별 절차를 명확하게 기술\n",
    "#### 2) 목적\n",
    ": 어떤 문제를 컴퓨터로 해결하는 방법을 공부 -> 특정 프로그래밍 언어, 문법과 무관하게 통용되는 것. \n",
    "다양한 문제해결 방법 (= 알고리즘 설계기법)을 공부, 알고리즘 문제를 이해, 효율적 해결방법을 공부\n",
    "#### 3) 문제와 해답\n",
    ": 문제는 해답을 찾으려고 물어보는 질문, Parameter는 문제에서 특정한 값이 지정되어 있지 않은 변수.\n",
    "입력 사례 - 문제의 parameter에 지정된 특정한 값, instance\n",
    "\n",
    "#### >>  ALGORITHM : 어떤 문제의 \"모든\" 입력 사례에 대해 해답을 찾아주는 단계별 절차"
   ]
  },
  {
   "cell_type": "markdown",
   "metadata": {},
   "source": [
    "### (2) 기본 알고리즘 - 순차탐색 (Sequential Search)\n",
    "#### 1) 문제\n",
    ": 어떤 수 x가 n개의 수로 구성된 리스트(배열)S 내에 존재하는가?\n",
    "#### 2) 해답\n",
    ": x가 존재하면 x의 인덱스를, 없으면 -1을 출력하게 한다.\n",
    "#### 3) Parameter\n",
    ": 정수 n, 리스트 S, 원소 x\n",
    "#### 4) 입력 사례\n",
    ": S = [0, 10, 7, 11, 5, 13, 8], n = 7, x = 5\n",
    "#### 5) 코드"
   ]
  },
  {
   "cell_type": "code",
   "execution_count": 6,
   "metadata": {},
   "outputs": [],
   "source": [
    "def seqsearch(s,x):\n",
    "    loc = 0\n",
    "    while (loc <=len(s)) & (s[loc] != x):\n",
    "        loc += 1\n",
    "    if loc > len(s):\n",
    "        loc = -1\n",
    "    return loc"
   ]
  },
  {
   "cell_type": "markdown",
   "metadata": {},
   "source": [
    "#### 6) 입력 사례를 이용해 알고리즘 확인"
   ]
  },
  {
   "cell_type": "code",
   "execution_count": 5,
   "metadata": {},
   "outputs": [
    {
     "name": "stdout",
     "output_type": "stream",
     "text": [
      "4\n"
     ]
    }
   ],
   "source": [
    "n = 7\n",
    "s = [0, 10, 7, 11, 5, 13, 8]\n",
    "x = 5\n",
    "\n",
    "result = seqsearch(s,x)\n",
    "print(result)"
   ]
  },
  {
   "cell_type": "markdown",
   "metadata": {},
   "source": [
    "### (3) 기본 알고리즘 - 교환정렬 (Exchange Sort)\n",
    "#### 1) 문제\n",
    ": n개의 수로 구성된 리스트 S를 오름차순으로 정렬하시오.\n",
    "#### 2) 해답\n",
    ": S를 오름차순으로 정렬한 리스트를 출력\n",
    "#### 3) parameter\n",
    ": S, n\n",
    "#### 4) 입력 사례\n",
    ": n = 6, S = [10, 7, 11, 5, 13, 8]\n",
    "\n",
    "#### 5) algorithm\n",
    ": 모든 S에 대해서 오름차순 정렬된 S'를 찾아주는 단계별 절차\n",
    "> 정렬 알고리즘에는 교환정렬, 삽입정렬, 선택정렬, 합병정렬, 퀵정렬 등 매우 다양한 방법이 있다. 여기에선 가장 단순한 방식인 교환정렬을 차용.\n",
    "#### 6) 코드\n",
    ": i번쨰 자리의 수와 i+1부터 n까지의 수를 비교, i번째가 더 작으면 둘의 위치를 바꾸는 방식. for문을 처음 한번 돌고 나면, 가장 작은 수가 맨 앞 첫자리로 가게 된다. 이러한 방식으로 모든 루프를 돌고나면 오름차순 완성."
   ]
  },
  {
   "cell_type": "code",
   "execution_count": 11,
   "metadata": {},
   "outputs": [],
   "source": [
    "def exchange(s):\n",
    "    for i in range(len(s)-1): #len(s)까지 가지 않고 len(s)-1까지만 가는 것은 for j 구문에서 i+1부터 시작, 넘치지 않기 위함이다!\n",
    "        for j in range(i+1, len(s)):\n",
    "            if s[i]>s[j]:\n",
    "                s[i], s[j] = s[j], s[i] #Python에선 이런 식으로도 swap이 가능합니다.\n",
    "    return s"
   ]
  },
  {
   "cell_type": "markdown",
   "metadata": {},
   "source": [
    "#### 7) 입력사례를 이용해 알고리즘 확인"
   ]
  },
  {
   "cell_type": "code",
   "execution_count": 19,
   "metadata": {},
   "outputs": [
    {
     "name": "stdout",
     "output_type": "stream",
     "text": [
      "before change :  [10, 7, 11, 5, 13, 8]\n",
      "After change :  [5, 7, 8, 10, 11, 13]\n"
     ]
    }
   ],
   "source": [
    "n = 6\n",
    "s = [10, 7, 11, 5, 13, 8]\n",
    "print(\"before change : \", s)\n",
    "print(\"After change : \", s2)"
   ]
  },
  {
   "cell_type": "markdown",
   "metadata": {},
   "source": [
    "#### 8) 중간 과정을 확인하기 위해 코드를 일부 수정해서, 확인해보자 !"
   ]
  },
  {
   "cell_type": "code",
   "execution_count": 20,
   "metadata": {},
   "outputs": [
    {
     "name": "stdout",
     "output_type": "stream",
     "text": [
      "[5, 10, 11, 7, 13, 8]\n",
      "[5, 7, 11, 10, 13, 8]\n",
      "[5, 7, 8, 11, 13, 10]\n",
      "[5, 7, 8, 10, 13, 11]\n",
      "[5, 7, 8, 10, 11, 13]\n",
      "After change :  [5, 7, 8, 10, 11, 13]\n"
     ]
    }
   ],
   "source": [
    "s = [10, 7, 11, 5, 13, 8]\n",
    "\n",
    "def exchange2(s):\n",
    "    for i in range(len(s)-1):\n",
    "        for j in range(i+1, len(s)):\n",
    "            if s[i]>s[j]:\n",
    "                s[i], s[j] = s[j], s[i]\n",
    "        print(s)\n",
    "    return s\n",
    "\n",
    "s3 = exchange2(s)\n",
    "print(\"After change : \", s3)"
   ]
  },
  {
   "cell_type": "markdown",
   "metadata": {},
   "source": [
    "### (4) 기본 알고리즘 - 행렬의 곱셈 문제\n",
    "#### 1) 문제\n",
    ": 두 n x n 행렬의 곱을 구하시오.\n",
    "#### 2) 입력사례 : n = 2\n",
    " - A = [ [a11, a12], [a21, a22] ], B = [ [b11, b12], [b21, b22] ], C = A x B\n",
    " - A = [ [2, 3], [4, 1] ], B = [ [5, 7], [6, 8], C = [ [28, 38], [26, 36] ]\n",
    "> 2 x 2 행렬의 경우, 일반식은 다음과 같이 구할 수 있다 : Cij = ai1 * b1j + ai2*b2j\n",
    "#### 3) n x n으로 일반식을 구하는 경우 : Cij = Σaik * bkj (1 <= i, j <= n)\n",
    "#### 4) 코드"
   ]
  },
  {
   "cell_type": "code",
   "execution_count": 28,
   "metadata": {},
   "outputs": [],
   "source": [
    "def matrixmult(n, a, b):\n",
    "    c = [[0]* n for _ in range(n)] # 결과 행렬 C의 공간을 확보 사이즈가 n개인 리스트를 n개 생성한다.\n",
    "    for i in range(n):\n",
    "        for j in range(n):\n",
    "            for k in range(n):\n",
    "                c[i][j] += a[i][k]*b[k][j] # 일반식에서 Σ 였다는 것을 잊지 말 것.\n",
    "    return c"
   ]
  },
  {
   "cell_type": "markdown",
   "metadata": {},
   "source": [
    "#### 5) 입력사례를 이용해 알고리즘 확인"
   ]
  },
  {
   "cell_type": "code",
   "execution_count": 27,
   "metadata": {},
   "outputs": [
    {
     "data": {
      "text/plain": [
       "[[28, 38], [26, 36]]"
      ]
     },
     "execution_count": 27,
     "metadata": {},
     "output_type": "execute_result"
    }
   ],
   "source": [
    "A = [[2, 3], [4, 1]]\n",
    "B = [[5, 7], [6, 8]]\n",
    "C = matrixmult(2, A, B)\n",
    "C"
   ]
  },
  {
   "cell_type": "markdown",
   "metadata": {},
   "source": [
    "## Ch 1.2 알고리즘의 효율성"
   ]
  },
  {
   "cell_type": "markdown",
   "metadata": {},
   "source": [
    "### (1) 알고리즘의 효율성\n",
    "#### 1) 알고리즘의 성능\n",
    ": 시간과 공간 사용량의 효율성. 알고리즘의 성능은 컴퓨터의 실행 속도나 메모리 가격과는 무관한 것\n",
    "#### 2) 순차 탐색 vs 이분 검색 (Binary Search)\n",
    ": 입력 리스트의 조건에 따른 탐색 알고리즘의 선택\n",
    "\n",
    " -  정렬되지 않은 리스트에서 키(key) 찾기 : 순차탐색 -> 최악의 경우 n번 실행\n",
    " -  정렬된 리스트에서 키 찾기 : 이분 탐색 -> log(2)n + 1 번 실행"
   ]
  },
  {
   "cell_type": "markdown",
   "metadata": {},
   "source": [
    "### (2) 이분 검색 (Binary Search)\n",
    "#### 1) 알고리즘 작동 원리\n",
    " - 주어진 리스트 S(정렬된 것)와 키 x에 대해, 먼저 x를 S의 중앙에 위치한 원소와 비교\n",
    " - 만약 같다면 찾은 것이므로 알고리즘 종료\n",
    " - 만약 x가 그 원소보다 작다면, x는 왼쪽에 위치하는 것이므로, 왼쪽 리스트에 대해 이진탐색을 실행 (재귀호출 이용)\n",
    " - 마찬가지로 만약 x가 그 원소보다 크다면, x는 오른쪽에 위치하는 것이므로, 오른쪽 리스트에 대해 이진탐색 실행.\n",
    " - 더 이상 찾을 리스트가 없다면 (더 실행할 수 없게 된다면) 알고리즘을 종료\n",
    "#### 2) 코드"
   ]
  },
  {
   "cell_type": "code",
   "execution_count": 57,
   "metadata": {},
   "outputs": [],
   "source": [
    "def binsearch(n, s, x):\n",
    "    low = 0 # 맨 첫자리로 시작\n",
    "    high = n # 맨 끝자리로 시작\n",
    "    loca = -1 # 만약 리스트에 없다면 -1 출력\n",
    "    \n",
    "    while (low <= high) & (loca == -1):\n",
    "        mid = (low + high)//2 # 리스트의 중간값을 구해서 비교\n",
    "        if x == s[mid]:\n",
    "            loca = mid # 중간값 인덱스의 값과 x가 일치하면 인덱스값 loca에 넣고 알고리즘 종료\n",
    "        elif x < s[mid]:\n",
    "            high = mid-1 # x가 작은 경우, high값을 중간값 바로 직전으로 옮김\n",
    "        else:\n",
    "            low = mid+1 # x가 큰 경우, low값을 중간값 바로 다음으로 옮김\n",
    "    return loca"
   ]
  },
  {
   "cell_type": "markdown",
   "metadata": {},
   "source": [
    "#### 3) 입력 사례를 통해 알고리즘 확인"
   ]
  },
  {
   "cell_type": "code",
   "execution_count": 58,
   "metadata": {},
   "outputs": [
    {
     "name": "stdout",
     "output_type": "stream",
     "text": [
      "s =  [3, 5, 7, 8, 10, 11, 13]\n",
      "x =  13\n",
      "location =  6\n"
     ]
    }
   ],
   "source": [
    "s = [3, 5, 7, 8, 10, 11, 13]\n",
    "x = 13\n",
    "location = binsearch(len(s), s, x)\n",
    "print(\"s = \", s)\n",
    "print(\"x = \", x)\n",
    "print(\"location = \", location)"
   ]
  },
  {
   "cell_type": "code",
   "execution_count": 59,
   "metadata": {},
   "outputs": [
    {
     "name": "stdout",
     "output_type": "stream",
     "text": [
      "s =  [3, 5, 7, 8, 10, 11, 13]\n",
      "y =  2\n",
      "loca2 =  -1\n"
     ]
    }
   ],
   "source": [
    "y = 2\n",
    "loca2 = binsearch(len(s), s, y)\n",
    "print(\"s = \", s)\n",
    "print(\"y = \", y)\n",
    "print(\"loca2 = \", loca2)"
   ]
  },
  {
   "cell_type": "markdown",
   "metadata": {},
   "source": [
    "#### 4) 순차탐색과 이진 탐색 알고리즘 효율성 비교\n",
    " - 순차 탐색 : 크기가 n인 리스트에서 n번의 비교를 수행\n",
    " - 이분 탐색 : 크기가 n인 리스트에서 log(2)n + 1번의 비교를 수행"
   ]
  },
  {
   "cell_type": "markdown",
   "metadata": {},
   "source": [
    "### (3) 피보나치 수열의 n번째 항\n",
    "#### 1) 피보나치 수열이란?\n",
    "- 피보나치 수열 : 0, 1, 1, 2, 3, 5, 8, 13, 21, 34, ...\n",
    "- 피보나치 수열의 재귀적 정의 : f(0) = 0, f(1) = 1, f(n) = f(n-1) + f(n-2)\n",
    "\n",
    "#### 2) 문제\n",
    ": 피보나치 수열의 n번째 항을 구하시오.\n",
    "#### 3) 재귀 함수를 이용한 코드 구현"
   ]
  },
  {
   "cell_type": "code",
   "execution_count": 60,
   "metadata": {},
   "outputs": [],
   "source": [
    "def fibo1(n):\n",
    "    if n<=1 :\n",
    "        return n\n",
    "    else:\n",
    "        return fibo1(n-1)+fibo1(n-2)"
   ]
  },
  {
   "cell_type": "code",
   "execution_count": 62,
   "metadata": {},
   "outputs": [
    {
     "name": "stdout",
     "output_type": "stream",
     "text": [
      "0 1 1 2 3 5 8 13 21 34 55 "
     ]
    }
   ],
   "source": [
    "for i in range(11):\n",
    "    print(fibo1(i), end = \" \")"
   ]
  },
  {
   "cell_type": "markdown",
   "metadata": {},
   "source": [
    "#### 4) 재귀 함수를 이용한 경우의 효율성\n",
    "- 작성하기 쉽고 이해하기 쉬운 장점이 있다.\n",
    "- 그러나 중복된 값을 계산하게 되면서 비효율이 많이 발생하게 됨\n",
    "\n",
    "> fibo1(5) = fibo1(4) + fibo1(3), fibo1(4) = fibo1(3)+ fibo1(2), ....\n",
    "\n",
    "#### 5) 비효율성을 개선하기 위해서는\n",
    "- 같은 값은 중복해서 재귀적으로 계산하지 않도록 해야한다.\n",
    "- 이미 계산된 피보나치 항의 값은 리스트에 저장\n",
    "- 이미 계산된 피보나치 항은 리스트에서 필요할 때마다 꺼내쓸 수 있도록 한다.\n",
    "\n",
    "#### 6) 개선된 코드"
   ]
  },
  {
   "cell_type": "code",
   "execution_count": 63,
   "metadata": {},
   "outputs": [],
   "source": [
    "def fib2(n):\n",
    "    f = [0]*(n+1) # 배열 갯수 확보\n",
    "    if (n>0):\n",
    "        f[1] = 1\n",
    "        for i in range(2, n+1):\n",
    "            f[i] = f[i-1] + f[i-2]\n",
    "    return f[n]"
   ]
  },
  {
   "cell_type": "code",
   "execution_count": 64,
   "metadata": {},
   "outputs": [
    {
     "name": "stdout",
     "output_type": "stream",
     "text": [
      "0 1 1 2 3 5 8 13 21 34 55 "
     ]
    }
   ],
   "source": [
    "for i in range(11):\n",
    "    print(fib2(i), end = \" \")"
   ]
  },
  {
   "cell_type": "markdown",
   "metadata": {},
   "source": [
    "#### 연습문제 ) 리스트를 이용하지 않고 반복문으로 피보나치항을 구하시오."
   ]
  },
  {
   "cell_type": "code",
   "execution_count": 5,
   "metadata": {},
   "outputs": [],
   "source": [
    "def fibonacci(n):\n",
    "    temp1 = 0\n",
    "    temp2 = 0\n",
    "    result = 0\n",
    "    if n == 0:\n",
    "        return 0\n",
    "    elif n == 1:\n",
    "        return 1\n",
    "    else:\n",
    "        temp2 = 1\n",
    "        for i in range (2, n+1):\n",
    "            result = temp1 + temp2\n",
    "            temp1 = temp2\n",
    "            temp2 = result\n",
    "        return result"
   ]
  },
  {
   "cell_type": "code",
   "execution_count": 65,
   "metadata": {},
   "outputs": [
    {
     "name": "stdout",
     "output_type": "stream",
     "text": [
      "0 1 1 2 3 5 8 13 21 34 55 "
     ]
    }
   ],
   "source": [
    "for i in range (11):\n",
    "    print(fibonacci(i), end = \" \")"
   ]
  },
  {
   "cell_type": "markdown",
   "metadata": {},
   "source": [
    "## Ch 1.3 알고리즘의 분석"
   ]
  },
  {
   "cell_type": "markdown",
   "metadata": {},
   "source": [
    "### (1) 어떤 알고리즘에 대한 두 가지 중요한 질문\n",
    "- 정확성 (Correctness) : 모든 입력 사례에 대해 해답을 찾을 수 있는가?\n",
    "- 효율성 (Efficiency) : 입력 크기가 커지면 성능이 어떻게 변화하는가?\n",
    "\n",
    "### (2) 알고리즘의 분석\n",
    "#### 1) 정확성 분석\n",
    ": 모든 입력 사례에 대해 정확한 해답을 찾는다는 증명 (수학, 귀납적 방식을 통한 증명)\n",
    "#### 2) 효율성 분석\n",
    ": 입력 크기가 커지는 정도에 따라 성능의 변화량 증명\n",
    "- 시간 복잡도 (time complexity): 시간을 기준으로 알고리즘의 효율성 분석\n",
    "- 공간 복잡도 (space complexity): 공간을 기준으로 알고리즘의 효율성 분석\n",
    "\n",
    "#### 3) 알고리즘의 성능 분석 방법\n",
    "- Performance 측정 : 실행 시간을 직접 측정하거나 실행 명령의 숫자 세기 > 컴퓨터 성능이나 프로그래밍 언어에 따라 달라짐\n",
    "- 복잡도 분석 : 컴퓨터 프로그래밍 언어와 무관하게 성능 분석 > 입력 크기에 따른 단위 연산의 실행횟수 세기\n",
    "\n",
    "#### 4) 복잡도 분석\n",
    "- 입력 크기 : 문제가 가진 parameter, 입력 사례의 크기 n\n",
    "- 단위 연산 : 알고리즘 실행의 기본이 되는 명령어들의 집합\n",
    "\n",
    "### (3) 알고리즘 복잡도 분석 예시\n",
    "\n",
    "#### 1) 배열 원소의 합"
   ]
  },
  {
   "cell_type": "code",
   "execution_count": 1,
   "metadata": {},
   "outputs": [
    {
     "data": {
      "text/plain": [
       "21"
      ]
     },
     "execution_count": 1,
     "metadata": {},
     "output_type": "execute_result"
    }
   ],
   "source": [
    "def sum(s):\n",
    "    n = len(s)\n",
    "    result = 0\n",
    "    for i in range(n):\n",
    "        result += s[i]\n",
    "    return result\n",
    "\n",
    "s = [1, 5, 6, 7, 2]\n",
    "sum(s)"
   ]
  },
  {
   "cell_type": "markdown",
   "metadata": {},
   "source": [
    "- 단위 연산 : 리스트 S의 원소를 result에 더하는 명령\n",
    "- 입력 크기 : 리스트 S의 원소 개수 n\n",
    "- 시간 복잡도 T(n) = n"
   ]
  },
  {
   "cell_type": "markdown",
   "metadata": {},
   "source": [
    "#### 2) 교환정렬의 시간 복잡도"
   ]
  },
  {
   "cell_type": "code",
   "execution_count": 2,
   "metadata": {},
   "outputs": [
    {
     "data": {
      "text/plain": [
       "[1, 2, 5, 6, 7]"
      ]
     },
     "execution_count": 2,
     "metadata": {},
     "output_type": "execute_result"
    }
   ],
   "source": [
    "def exchange(s):\n",
    "    n = len(s)\n",
    "    for i in range(n):\n",
    "        for j in range(i+1, n):\n",
    "            if s[i] > s[j]:\n",
    "                s[i], s[j] = s[j], s[i] #swap\n",
    "    return s\n",
    "s2 = exchange(s)\n",
    "s2"
   ]
  },
  {
   "cell_type": "markdown",
   "metadata": {},
   "source": [
    "- 단위 연산 : s[i]와 s[j]의 비교\n",
    "- 입력 크기 : 정렬할 리스트 S의 원소 개수 n\n",
    "- for j 루프는 i에 따라 n-1번에서 1번까지 실행하게 되므로, 등차수열의 합과 같음\n",
    "- 시간복잡도 T(n) = (n-1) + (n-2) + ... + 1 = (n-1)n/2"
   ]
  },
  {
   "cell_type": "markdown",
   "metadata": {},
   "source": [
    "#### 3) 행렬곱셈의 시간 복잡도"
   ]
  },
  {
   "cell_type": "code",
   "execution_count": 3,
   "metadata": {},
   "outputs": [
    {
     "data": {
      "text/plain": [
       "[[20, 29, 38], [26, 38, 50], [34, 48, 62]]"
      ]
     },
     "execution_count": 3,
     "metadata": {},
     "output_type": "execute_result"
    }
   ],
   "source": [
    "def matrixmult(n, A, B):\n",
    "    C = [[0]*n for _ in range(n)]\n",
    "    for i in range(n):\n",
    "        for j in range(n):\n",
    "            for k in range(n):\n",
    "                C[i][j] += A[i][k] * B[k][j]\n",
    "    return C\n",
    "\n",
    "A = [[2, 3, 4], [3, 4, 5], [1, 6, 7]]\n",
    "B = [[1, 2, 3], [2, 3, 4], [3, 4, 5]]\n",
    "n = 3\n",
    "C = matrixmult(n, A, B)\n",
    "C"
   ]
  },
  {
   "cell_type": "markdown",
   "metadata": {},
   "source": [
    "- 단위 연산 : 가장 안쪽에 있는 for 루프에 있는 곱셈 연산\n",
    "- 입력 크기 : 행과 열의 개수 n\n",
    "- 3중 for문 루프가 항상 각 n번씩 실행되므로, 시간복잡도 T(n) = n^3"
   ]
  },
  {
   "cell_type": "markdown",
   "metadata": {},
   "source": [
    "### (4) 단위 연산의 실행 횟수는 항상 일정한가?\n",
    "\n",
    "#### 1) 순차 탐색의 경우 : 입력 사례에 따라 실행 횟수가 달라짐\n",
    "- S = [10, 7, 11, 5, 13, 8] 인 경우\n",
    "- x = 3 일 때 실행 횟수는 6 (6번 for 문을 돌리고, 탐색 결과 없는 것으로 출력)\n",
    "- x = 5 일 떄 실행 횟수는 4\n",
    "- x = 10 일 때 실행 횟수는 1\n",
    "\n",
    "#### 2) 입력 사례에 따른 시간 복잡도 분석\n",
    "- 일정 시간 복잡도 (constant) : 입력 사례에 따라 달라지지 않는 경우\n",
    "- 최악(worst-case), 최적(best-case), 평균(average-case) 시간 복잡도 분석\n",
    ": 입력 사례에 따라 달라지는 경우. 일반적으로 worst-case 분석을 가장 많이 활용, 최악인 경우 이렇게까지 느려질 수 있다고 표현.\n",
    "\n",
    "#### 3) 순차 탐색의 시간 복잡도\n",
    "- 단위 연산 : 리스트 S의 원소와 주어진 키 x와의 비교 연산\n",
    "- 입력 크기 : 리스트 원소의 개수 n\n",
    "- 최악의 경우 모두 비교 W(n) = n, 최적의 경우 한번만 비교 B(n) = 1\n",
    "- 평균의 경우\n",
    ": 주어진 키 x가 k번쨰에 있다고 할 경우, k번을 비교하게 됨. 만약 어떤 키 x가 리스트 S에 골고루 분포해 있다고 할 경우\n",
    "> A(n) = Σ(k * 1/n) = 1/n * Σk = 1/n * n(n+1)/2 = (n+1)/2"
   ]
  },
  {
   "cell_type": "markdown",
   "metadata": {},
   "source": [
    "## Ch 1.4. 알고리즘의 차수"
   ]
  },
  {
   "cell_type": "markdown",
   "metadata": {},
   "source": [
    "### (1) 어떤 알고리즘이 궁극적으로 더 빠른가?\n",
    "\n",
    "#### 1) 시간 복잡도 : 입력 크기 n에 대한 단위 연산 횟수의 함수 f(n)\n",
    "\n",
    "#### 2) 시간 복잡도의 비교\n",
    "- 시간복잡도가 각 f1(n) = n, f2(n) = n^2 인 알고리즘이 주어졌을 때, 만약 단위 연산의 실행 시간이 f2는 t, f1는 1000t라 할 때\n",
    "- 단순히 보면, f1의 단위 연산이 f2의 단위 연산보다 1000배 느린 것으로 보이지만\n",
    "- 알고리즘의 전체 실행 시간은 f1의 경우 n * 1000t, f2의 경우 n^2 * t가 되고\n",
    "- 부등식 n^2 * t > n * 1000t 가 성립하려면, n > 1000\n",
    "- n이 1000보다 큰 지점부터는 f1이 f2보다 궁극적으로 더 빠른 알고리즘이라 할 수 있다.\n",
    "> 즉 차수가 높으면 결국은 그게 더 느린 알고리즘이라고 볼 수 있음"
   ]
  },
  {
   "cell_type": "markdown",
   "metadata": {},
   "source": [
    "### (2) 차수 : 알고리즘의 궁극적인 성능 분류 !\n",
    "\n",
    "#### 1) 근본 원리\n",
    ": 모든 1차 시간 알고리즘은 궁극적으로 2차 시간 알고리즘보다 빠르다. 따라서, 시간 복잡도 함수의 차수로 알고리즘의 성능을 분류할 수 있다.\n",
    "\n",
    "#### 2) 자주 사용되는 복잡도 분류"
   ]
  },
  {
   "cell_type": "code",
   "execution_count": 7,
   "metadata": {},
   "outputs": [
    {
     "data": {
      "text/html": [
       "<div>\n",
       "<style scoped>\n",
       "    .dataframe tbody tr th:only-of-type {\n",
       "        vertical-align: middle;\n",
       "    }\n",
       "\n",
       "    .dataframe tbody tr th {\n",
       "        vertical-align: top;\n",
       "    }\n",
       "\n",
       "    .dataframe thead th {\n",
       "        text-align: right;\n",
       "    }\n",
       "</style>\n",
       "<table border=\"1\" class=\"dataframe\">\n",
       "  <thead>\n",
       "    <tr style=\"text-align: right;\">\n",
       "      <th></th>\n",
       "      <th>대분류</th>\n",
       "      <th>복잡도 함수</th>\n",
       "      <th>분류 이름</th>\n",
       "    </tr>\n",
       "  </thead>\n",
       "  <tbody>\n",
       "    <tr>\n",
       "      <th>0</th>\n",
       "      <td>다항시간 (polymonial)</td>\n",
       "      <td>1</td>\n",
       "      <td>상수 시간</td>\n",
       "    </tr>\n",
       "    <tr>\n",
       "      <th>1</th>\n",
       "      <td>다항시간 (polymonial)</td>\n",
       "      <td>lg n</td>\n",
       "      <td>로그 시간</td>\n",
       "    </tr>\n",
       "    <tr>\n",
       "      <th>2</th>\n",
       "      <td>다항시간 (polymonial)</td>\n",
       "      <td>n</td>\n",
       "      <td>선형 시간</td>\n",
       "    </tr>\n",
       "    <tr>\n",
       "      <th>3</th>\n",
       "      <td>다항시간 (polymonial)</td>\n",
       "      <td>n lg n</td>\n",
       "      <td>선형-로그 시간</td>\n",
       "    </tr>\n",
       "    <tr>\n",
       "      <th>4</th>\n",
       "      <td>다항시간 (polymonial)</td>\n",
       "      <td>n^2</td>\n",
       "      <td>2차 시간</td>\n",
       "    </tr>\n",
       "    <tr>\n",
       "      <th>5</th>\n",
       "      <td>다항시간 (polymonial)</td>\n",
       "      <td>n^3</td>\n",
       "      <td>3차 시간</td>\n",
       "    </tr>\n",
       "    <tr>\n",
       "      <th>6</th>\n",
       "      <td>지수시간 (exponential)</td>\n",
       "      <td>2^n</td>\n",
       "      <td>지수 시간</td>\n",
       "    </tr>\n",
       "    <tr>\n",
       "      <th>7</th>\n",
       "      <td>지수시간 (exponential)</td>\n",
       "      <td>n!</td>\n",
       "      <td>팩토리얼 시간</td>\n",
       "    </tr>\n",
       "  </tbody>\n",
       "</table>\n",
       "</div>"
      ],
      "text/plain": [
       "                  대분류  복잡도 함수     분류 이름\n",
       "0   다항시간 (polymonial)       1     상수 시간\n",
       "1   다항시간 (polymonial)    lg n     로그 시간\n",
       "2   다항시간 (polymonial)       n     선형 시간\n",
       "3   다항시간 (polymonial)  n lg n  선형-로그 시간\n",
       "4   다항시간 (polymonial)     n^2     2차 시간\n",
       "5   다항시간 (polymonial)     n^3     3차 시간\n",
       "6  지수시간 (exponential)     2^n     지수 시간\n",
       "7  지수시간 (exponential)      n!   팩토리얼 시간"
      ]
     },
     "execution_count": 7,
     "metadata": {},
     "output_type": "execute_result"
    }
   ],
   "source": [
    "df = pd.DataFrame(columns = [\"대분류\", \"복잡도 함수\", \"분류 이름\"])\n",
    "df.loc[0] = [\"다항시간 (polymonial)\", \"1\", \"상수 시간\"]\n",
    "df.loc[1] = [\"다항시간 (polymonial)\", \"lg n\", \"로그 시간\"]\n",
    "df.loc[2] = [\"다항시간 (polymonial)\", \"n\", \"선형 시간\"]\n",
    "df.loc[3] = [\"다항시간 (polymonial)\", \"n lg n\", \"선형-로그 시간\"]\n",
    "df.loc[4] = [\"다항시간 (polymonial)\", \"n^2\", \"2차 시간\"]\n",
    "df.loc[5] = [\"다항시간 (polymonial)\", \"n^3\", \"3차 시간\"]\n",
    "df.loc[6] = [\"지수시간 (exponential)\", \"2^n\", \"지수 시간\"]\n",
    "df.loc[7] = [\"지수시간 (exponential)\", \"n!\", \"팩토리얼 시간\"]\n",
    "\n",
    "df"
   ]
  },
  {
   "cell_type": "markdown",
   "metadata": {},
   "source": [
    "#### 3) 알고리즘의 성능을 차수로 분류하는 법\n",
    "- 복잡도 함수를 분류할 때, 낮은 차수의 항들은 항상 버릴 수 있다.\n",
    "> a*n^2 + b*n + c 함수를 2차 시간함수 n^2로 분류. 궁극적으로 2차항이 함수의 값을 결정하는 데 가장 중요하기 때문\n",
    "\n",
    "#### 4) 점근적 표기법 : Big O, Θ, 𝝮\n",
    "- Big O : 복잡도 함수의 점근적 상한을 표기\n",
    "- 𝝮 : 복잡도 함수의 점근적 하한을 표기\n",
    "- Θ : 복잡도 함수의 점근적 상한과 하한을 동시에 만족\n",
    "\n",
    "#### 5) 교환 정렬의 차수\n",
    "- T(n) = (n-1)n/2 = 1/2 * n^2 - 1/2 * n\n",
    "- T(n) ∈ O(n^2), T(n) ∈ 𝝮(n^2), T(n) ∈ Θ(n^2)\n",
    "- 즉 교환정렬 알고리즘의 차수는 Θ(n^2)\n",
    "\n",
    "#### 6) 순차 검색의 차수\n",
    "- 최악의 경우 W(n) = n ∈ Θ(n)\n",
    "- 최적의 경우 B(n) = 1 ∈ Θ(1)\n",
    "- 평균의 경우 A(n) = (n+1)/2 ∈ Θ(n)"
   ]
  },
  {
   "cell_type": "code",
   "execution_count": null,
   "metadata": {},
   "outputs": [],
   "source": []
  }
 ],
 "metadata": {
  "kernelspec": {
   "display_name": "Python 3",
   "language": "python",
   "name": "python3"
  },
  "language_info": {
   "codemirror_mode": {
    "name": "ipython",
    "version": 3
   },
   "file_extension": ".py",
   "mimetype": "text/x-python",
   "name": "python",
   "nbconvert_exporter": "python",
   "pygments_lexer": "ipython3",
   "version": "3.8.3"
  }
 },
 "nbformat": 4,
 "nbformat_minor": 4
}
