{
 "cells": [
  {
   "cell_type": "markdown",
   "metadata": {},
   "source": [
    "# Python으로 배우는 Algorithm 기초\n",
    "\n",
    "# Ch 2. 분할 정복 알고리즘 Divide-and-Conquer"
   ]
  },
  {
   "cell_type": "markdown",
   "metadata": {},
   "source": [
    "## Ch 2.1 이분 검색 Binary Search"
   ]
  },
  {
   "cell_type": "markdown",
   "metadata": {},
   "source": [
    "### (1) 이분 검색 문제\n",
    "- 정렬되지 않은 리스트 S에서 주어진 키 x가 존재하는가? : 순차 탐색\n",
    "- 정렬된 리스트 S에서 주어진 키 x가 존재하는가? : 이분 검색\n",
    "> 재귀적 방법으로 이분 검색 로직 구상하기\n",
    "\n",
    "### (2) 분할정복 알고리즘으로서의 이분 검색\n",
    "#### 1) 문제 : 정렬된 리스트 S에서 어떤 키 x가 존재하는가?\n",
    "#### 2) 해답 : 존재하면 S에서의 x의 위치, 존재하지 않는 경우 -1을 반환\n",
    "#### 3) 분할정복법\n",
    "- S의 정가운데 원소와 x를 비교하여, 같으면 해당 위치를 반환\n",
    "- 아닌 경우\n",
    "- [Divide] 정가운데 원소를 기준으로 S를 두 개의 리스트로 분할\n",
    "- [Conquer] x가 정가운데 원소보다 크면 오른쪽, 작으면 왼쪽을 호출. 남은 반쪽은 버림.\n",
    "- [Obtain] 선택한 리스트에서 얻은 답을 반환"
   ]
  },
  {
   "cell_type": "markdown",
   "metadata": {},
   "source": [
    "#### 4) 코드 (Recursive)"
   ]
  },
  {
   "cell_type": "code",
   "execution_count": 2,
   "metadata": {},
   "outputs": [],
   "source": [
    "def binarySearch (S, x, low, high):\n",
    "    if low > high:\n",
    "        return -1\n",
    "    else:\n",
    "        mid = (low + high)//2\n",
    "        if x == S[mid]:\n",
    "            return mid\n",
    "        elif x < S[mid]:\n",
    "            return binarySearch(S, x, low, mid-1)\n",
    "        else:\n",
    "            return binarySearch(S, x, mid+1, high)"
   ]
  },
  {
   "cell_type": "code",
   "execution_count": 3,
   "metadata": {},
   "outputs": [
    {
     "name": "stdout",
     "output_type": "stream",
     "text": [
      "S =  [8, 10, 12, 13, 14, 18, 20, 25, 27, 30, 35, 40, 45]\n",
      "x =  18\n",
      "loc =  5\n"
     ]
    }
   ],
   "source": [
    "S = [8, 10, 12, 13, 14, 18, 20, 25, 27, 30, 35, 40, 45]\n",
    "x = 18\n",
    "loc = binarySearch(S, x, 0, len(S)-1)\n",
    "print(\"S = \", S)\n",
    "print(\"x = \", x)\n",
    "print(\"loc = \", loc)"
   ]
  },
  {
   "cell_type": "code",
   "execution_count": 4,
   "metadata": {},
   "outputs": [
    {
     "name": "stdout",
     "output_type": "stream",
     "text": [
      "S =  [8, 10, 12, 13, 14, 18, 20, 25, 27, 30, 35, 40, 45]\n",
      "y =  17\n",
      "loc2 =  -1\n"
     ]
    }
   ],
   "source": [
    "y = 17 # which doesn't exist in the list S\n",
    "loc2 = binarySearch(S, y, 0, len(S)-1)\n",
    "print(\"S = \", S)\n",
    "print(\"y = \", y)\n",
    "print(\"loc2 = \", loc2)"
   ]
  },
  {
   "cell_type": "markdown",
   "metadata": {},
   "source": [
    "## Ch 2.2 합병 정렬 Merge Sort"
   ]
  },
  {
   "cell_type": "markdown",
   "metadata": {},
   "source": [
    "### (1) 정렬되지 않은 리스트의 정렬\n",
    ": 기존에 교환정렬을 통한 리스트 정렬 (greedy algorithm에 가까운 형태)\n",
    "> 합병정렬을 통해 개선된 알고리즘 사용 가능 !\n",
    "\n",
    "### (2) 합병 정렬\n",
    "\n",
    "#### 1) Divide\n",
    ": 원소가 n개인 S를 n/2개의 원소를 가진 두 개의 리스트로 분할\n",
    "#### 2) Conquer\n",
    ": 왼쪽의 리스트와 오른쪽의 리스트를 각각 재귀적으로 합병해 정렬\n",
    "#### 3) Combine\n",
    ": 각각 정렬된 두 개의 리스트를 정렬된 하나의 리스트로 합병하여 리턴\n",
    "#### 4) 정렬 방식\n",
    ": merge 과정에서 대소 비교해서 정렬"
   ]
  },
  {
   "cell_type": "markdown",
   "metadata": {},
   "source": [
    "- input S = [27, 10, 12, 20 | 25, 13, 15, 22]\n",
    "- Divide    [27, 10 | 12, 20] [25, 13 | 15, 22]\n",
    "- Divide    [27 | 10] [12 | 20] [25 | 13] [15 | 22]\n",
    "- Divide    [27] [10] [12] [20] [25] [13] [15] [22]\n",
    "- merge    [10, 27] [12, 20]   [13, 25] [15, 22]\n",
    "- merge    [10, 12, 20, 27]    [13, 15, 22, 25]\n",
    "- merge    [10, 12, 13, 15, 20, 22, 25, 27]"
   ]
  },
  {
   "cell_type": "markdown",
   "metadata": {},
   "source": [
    "#### 5) 코드"
   ]
  },
  {
   "cell_type": "code",
   "execution_count": 5,
   "metadata": {},
   "outputs": [],
   "source": [
    "def mergesort(S):\n",
    "    n = len(S)\n",
    "    if n <= 1:\n",
    "        return S\n",
    "    else :\n",
    "        mid = n//2\n",
    "        U = mergesort(S[0:mid])\n",
    "        V = mergesort(S[mid:n])\n",
    "        return merge(U, V)\n",
    "\n",
    "def merge(U, V):\n",
    "    S = []\n",
    "    i = j = 0\n",
    "    while (i < len(U)) & (j < len(V)):\n",
    "        if U[i] < V[j]:\n",
    "            S.append(U[i])\n",
    "            i += 1\n",
    "        else:\n",
    "            S.append(V[j])\n",
    "            j += 1\n",
    "    if i < len(U):\n",
    "        S += U[i:len(U)]\n",
    "    else :\n",
    "        S += V[j:len(V)]\n",
    "    return S"
   ]
  },
  {
   "cell_type": "markdown",
   "metadata": {},
   "source": [
    "#### 6) 입력 사례 확인"
   ]
  },
  {
   "cell_type": "code",
   "execution_count": 6,
   "metadata": {},
   "outputs": [
    {
     "name": "stdout",
     "output_type": "stream",
     "text": [
      "Before :  [27, 10, 12, 20, 25, 13, 15, 22]\n",
      "After :  [10, 12, 13, 15, 20, 22, 25, 27]\n"
     ]
    }
   ],
   "source": [
    "S = [27, 10, 12, 20, 25, 13, 15, 22]\n",
    "print(\"Before : \", S)\n",
    "X = mergesort(S)\n",
    "print(\"After : \", X)"
   ]
  },
  {
   "cell_type": "code",
   "execution_count": 7,
   "metadata": {},
   "outputs": [
    {
     "name": "stdout",
     "output_type": "stream",
     "text": [
      "[27]\n",
      "[10]\n",
      "[12]\n",
      "[20]\n",
      "[10, 27]\n",
      "[12, 20]\n",
      "[25]\n",
      "[13]\n",
      "[15]\n",
      "[22]\n",
      "[13, 25]\n",
      "[15, 22]\n",
      "[10, 12, 20, 27]\n",
      "[13, 15, 22, 25]\n",
      "[10, 12, 13, 15, 20, 22, 25, 27]\n"
     ]
    }
   ],
   "source": [
    "def mergesort_detail(S):\n",
    "    n = len(S)\n",
    "    if n <= 1:\n",
    "        return S\n",
    "    else :\n",
    "        mid = n//2\n",
    "        U = mergesort_detail(S[0:mid])\n",
    "        V = mergesort_detail(S[mid:n])\n",
    "        print(U)\n",
    "        print(V)\n",
    "        return merge(U, V)\n",
    "\n",
    "Y = mergesort_detail(S)\n",
    "print(Y)"
   ]
  },
  {
   "cell_type": "markdown",
   "metadata": {},
   "source": [
    "### (3) 합병정렬 알고리즘의 개선\n",
    "#### 1)  기존 알고리즘의 문제점\n",
    "- 입력 리스트 S 이외에 리스트 U, V를 추가적으로 사용\n",
    "> 메모리 사용의 비효율성이 발생. 더 효율적인 방법 필요\n",
    "- 추가적으로 만들어지는 리스트 원소의 수가 너무 많아지는 문제\n",
    "- mergesort() 호출 시, 새로운 리스트 U와 V를 생성\n",
    "- 첫번째 재귀 호출 시 원소 수 : U n/2개, V n/2개\n",
    "- 두번째 재귀 호출 시 원소 수 : U n/4개, V n/4개\n",
    "...\n",
    "- 전체 재귀 호출 시 원소 개수 : n + n/2 + n/4 + ... = 약 2n\n",
    "\n",
    "#### 2) 개선된 코드"
   ]
  },
  {
   "cell_type": "code",
   "execution_count": 15,
   "metadata": {},
   "outputs": [],
   "source": [
    "def mergesort2(S, low, high):\n",
    "    if low < high:\n",
    "        mid = (low + high)//2\n",
    "        mergesort2(S, low, mid) # previously U\n",
    "        mergesort2(S, mid+1, high) #previously V\n",
    "        print(S[low:high+1])\n",
    "        merge2(S, low, mid, high)\n",
    "        \n",
    "def merge2(S, low, mid, high):\n",
    "    U = [] # as temporary array list\n",
    "    i = low\n",
    "    j = mid + 1\n",
    "    while (i <= mid) & (j <= high):\n",
    "        if (S[i] < S[j]):\n",
    "            U.append(S[i])\n",
    "            i += 1\n",
    "        else:\n",
    "            U.append(S[j])\n",
    "            j += 1\n",
    "    if i <= mid:\n",
    "        U += S[i:mid + 1]\n",
    "    else:\n",
    "        U += S[j:high + 1]\n",
    "    for k in range(low, high+1):\n",
    "        S[k] = U[k-low]"
   ]
  },
  {
   "cell_type": "code",
   "execution_count": 16,
   "metadata": {},
   "outputs": [
    {
     "name": "stdout",
     "output_type": "stream",
     "text": [
      "Before :  [27, 10, 12, 20, 25, 13, 15, 22]\n",
      "[27, 10]\n",
      "[12, 20]\n",
      "[10, 27, 12, 20]\n",
      "[25, 13]\n",
      "[15, 22]\n",
      "[13, 25, 15, 22]\n",
      "[10, 12, 20, 27, 13, 15, 22, 25]\n",
      "After :  [10, 12, 13, 15, 20, 22, 25, 27]\n"
     ]
    }
   ],
   "source": [
    "S = [27, 10, 12, 20, 25, 13, 15, 22]\n",
    "print(\"Before : \", S)\n",
    "mergesort2(S, 0, len(S)-1)\n",
    "print(\"After : \", S)"
   ]
  },
  {
   "cell_type": "markdown",
   "metadata": {},
   "source": [
    "## Ch 2.3. 분할정복의 설계 방법\n",
    "\n",
    "### (1) 설계 전략\n",
    "#### 1) 분할\n",
    ": 문제 입력 사례를 둘 이상의 작은 입력사례로 분할\n",
    "#### 2) 정복\n",
    ": 작은 입력 사례들을 각각 정복. 작은 입력 사례들이 충분히 작지않다면 재귀호출로 작게 만든다.\n",
    "#### 3) 통합\n",
    ": (필요 시) 작은 입력 사례들의 해답을 통합하여, 원래 입력 사례의 해답을 도출 (merge sort 사례에서)\n",
    "\n",
    "### (2) 문제해결 알고리즘의 종류\n",
    "\n",
    "#### 1) Brute Force\n",
    ": 순차 탐색 sequential search와 같이 단순무식(...)한 방법으로 답 찾아내기\n",
    "#### 2) Divide-and-Conquer\n",
    ": 분할정복. Binary Search, merge sort 등\n",
    "#### 3) Greedy Approach\n",
    ": 탐욕법. 하나씩 순차적으로 찾아가는 방식. Exchange sort. 어떤 측면에서는 가장 비효율적인 분할정복 알고리즘이라고도 볼 수 있다.\n",
    "#### 4) Dynamic Programming\n",
    ": 동적 계획법. 분할 정복이 Top-Down 방식이라면, 동적 계획법은 Bottom-up 방식이라고 볼 수 있음."
   ]
  },
  {
   "cell_type": "markdown",
   "metadata": {},
   "source": [
    "## Ch 2.4. Quick Sort 퀵 정렬 (분할 교환정렬)\n",
    "\n",
    "### (1) 퀵 정렬 : 가장 대표적인 분할 정복 알고리즘\n",
    "#### 1) 내부 (in-place) 정렬\n",
    "- 추가적인 리스트, 배열을 생성하지 않는 정렬\n",
    "- Hoare (1962), Quick Sort Algorithm\n",
    "\n",
    "#### 2) 원리\n",
    "- [Divide] : 기준 원소(pivot)를 정해서, 기준 원소를 기준으로 좌우로 분할\n",
    "- [Conquer] : 왼쪽의 리스트와 오른쪽의 리스트를 각각 재귀적으로 퀵 정렬\n",
    "- [Obtain] : 정렬된 리스트를 반환\n",
    "\n",
    "#### 3) 코드"
   ]
  },
  {
   "cell_type": "code",
   "execution_count": 18,
   "metadata": {},
   "outputs": [],
   "source": [
    "def quicksort(S, low, high):\n",
    "    if high > low:\n",
    "        pivotpoint = partition(S, low, high)\n",
    "        quicksort(S, low, pivotpoint-1)\n",
    "        quicksort(S, pivotpoint+1, high)"
   ]
  },
  {
   "cell_type": "markdown",
   "metadata": {},
   "source": [
    "### (2) 기준원소 pivot을 어떻게 정할 것인가?\n",
    "\n",
    "#### 1) 편의상 리스트의 첫 원소를 기준 원소로 지정해서 알고리즘을 생성\n",
    "#### 2)  정렬 과정\n",
    "\n",
    "- input S = [15, 22, 13, 27, 12, 10, 20, 25]\n",
    "- 리스트의 첫 원소 15를 pivot으로 하고, pivot보다 작은 것은 왼쪽, 큰 것은 오른쪽에 배치\n",
    "- S' = [13, 12, 10] [15] [22, 27, 20, 25]\n",
    "- 재귀 호출을 통해 각각 분할된 상태에서 각각의 첫 원소를 pivot으로 하여 재배치하는 방식으로 진행\n",
    "- S'' = [12, 10] [13] [15] [20] [22] [27, 25]\n",
    "- S''' = [10][12][13][15][20][22][25][27]\n",
    "\n",
    "> 결과적으로 새로운 리스트를 생성하지 않고, 동일한 리스트 S 내에서 정렬이 완료됨\n",
    "\n",
    "#### 3) 기준원소를 이용해서 어떻게 리스트를 나눌 수 있을까?\n",
    ": 두 개의 인덱스 i,j를 이용해서 비교한 후 서로 교환하는 방식 (compare & swap)\n",
    "> pivotpoint = partition(S, low=0, high=7)\n",
    "\n",
    "#### 4) 리스트를 나누는 partition 함수 코드 구현"
   ]
  },
  {
   "cell_type": "code",
   "execution_count": 21,
   "metadata": {},
   "outputs": [],
   "source": [
    "def partition(S, low, high):\n",
    "    pivotitem = S[low] # set the first item of the list as pivot\n",
    "    j = low\n",
    "    for i in range(low+1, high+1):\n",
    "        print(i, j, S) # to see the sorting process\n",
    "        if S[i] < pivotitem :\n",
    "            j +=1\n",
    "            S[i], S[j] = S[j], S[i] # swap\n",
    "    pivotpoint = j\n",
    "    S[low], S[pivotpoint] = S[pivotpoint], S[low]\n",
    "    return pivotpoint"
   ]
  },
  {
   "cell_type": "markdown",
   "metadata": {},
   "source": [
    "#### 5) 입력 예시"
   ]
  },
  {
   "cell_type": "code",
   "execution_count": 20,
   "metadata": {},
   "outputs": [
    {
     "name": "stdout",
     "output_type": "stream",
     "text": [
      "Before :  [15, 22, 13, 27, 12, 10, 20, 25]\n",
      "After :  [10, 12, 13, 15, 20, 22, 25, 27]\n"
     ]
    }
   ],
   "source": [
    "S = [15, 22, 13, 27, 12, 10, 20, 25]\n",
    "print(\"Before : \", S)\n",
    "quicksort(S, 0, len(S)-1)\n",
    "print(\"After : \", S)"
   ]
  },
  {
   "cell_type": "code",
   "execution_count": 22,
   "metadata": {},
   "outputs": [
    {
     "name": "stdout",
     "output_type": "stream",
     "text": [
      "Before :  [15, 22, 13, 27, 12, 10, 20, 25]\n",
      "1 0 [15, 22, 13, 27, 12, 10, 20, 25]\n",
      "2 0 [15, 22, 13, 27, 12, 10, 20, 25]\n",
      "3 1 [15, 13, 22, 27, 12, 10, 20, 25]\n",
      "4 1 [15, 13, 22, 27, 12, 10, 20, 25]\n",
      "5 2 [15, 13, 12, 27, 22, 10, 20, 25]\n",
      "6 3 [15, 13, 12, 10, 22, 27, 20, 25]\n",
      "7 3 [15, 13, 12, 10, 22, 27, 20, 25]\n",
      "1 0 [10, 13, 12, 15, 22, 27, 20, 25]\n",
      "2 0 [10, 13, 12, 15, 22, 27, 20, 25]\n",
      "2 1 [10, 13, 12, 15, 22, 27, 20, 25]\n",
      "5 4 [10, 12, 13, 15, 22, 27, 20, 25]\n",
      "6 4 [10, 12, 13, 15, 22, 27, 20, 25]\n",
      "7 5 [10, 12, 13, 15, 22, 20, 27, 25]\n",
      "7 6 [10, 12, 13, 15, 20, 22, 27, 25]\n",
      "After :  [10, 12, 13, 15, 20, 22, 25, 27]\n"
     ]
    }
   ],
   "source": [
    "S = [15, 22, 13, 27, 12, 10, 20, 25]\n",
    "print(\"Before : \", S)\n",
    "quicksort(S, 0, len(S)-1)\n",
    "print(\"After : \", S)"
   ]
  },
  {
   "cell_type": "markdown",
   "metadata": {},
   "source": [
    "### (3) Partition 함수의 개선\n",
    "\n",
    "#### 1) 앞에서 구현한 함수의 경우, 인덱스 i, j의 위치가 혼선을 줄 수 있어, 개선 필요\n",
    "#### 2) 개선한 로직\n",
    "\n",
    "- input S = [26, 5, 37, 1, 61, 11, 59, 15, 48, 19]\n",
    "- pivot은 리스트의 가장 첫 값인 S[0] = 26인 상태에서, i는 S[1]부터 시작, j는 S[len(S)-1] 위치에서부터 역순으로 시작\n",
    "- i는 pivot보다 큰 값을 찾을 때까지 이동, j는 pivot보다 작은 값을 찾을 때까지 이동\n",
    "- S = [26, 5, 37(i 멈춤), 1, 61, 11, 59, 15, 48, 19(j 멈춤)] > i, j 값 서로 swap\n",
    "- S' = [26, 5, 19, 1, 61, 11, 59, 15, 48, 37]\n",
    "- i는 1씩 증가, j는 1씩 감소하며, i < j 일때까지 동일한 과정을 계속 반복\n",
    "- S' = [26, 5, 19, 1, 61(i 멈춤), 11, 59, 15(j 멈춤), 48, 37] > i, j swap\n",
    "- S'' = [26, 5, 19, 1, 15, 11, 59, 61, 48, 37]\n",
    "- S'' = [26, 5, 19, 1, 15, 11(j 멈춤), 59(i 멈춤), 61, 48, 37]\n",
    "- 각 i = 6, j = 5 상태에서, i < j 가 되면서 1차 루프 종료, j 위치의 값과 pivot의 값을 swap\n",
    "- S''' = [11, 5, 19, 1, 15] [26] [59, 61, 48, 37]\n",
    "- 첫 루프가 끝나고 나면, 첫 pivot을 기준으로 왼쪽에는 작은 값만, 오른쪽에는 큰 값만 남게 된다.\n",
    "- 재귀 호출을 통해, 각각의 분할된 부분에서 동일한 로직으로 최종적으로 정렬이 완료되는 방식\n",
    "\n",
    "#### 3) 개선된 partition 함수 구현 코드"
   ]
  },
  {
   "cell_type": "code",
   "execution_count": 26,
   "metadata": {},
   "outputs": [],
   "source": [
    "def partition2 (S, low, high):\n",
    "    pivotitem = S[low] # set S[0] as pivot\n",
    "    i = low + 1 # start from the next item of pivot\n",
    "    j = high # start from the end of list\n",
    "    while i <= j:\n",
    "        while S[i] < pivotitem:\n",
    "            i +=1\n",
    "        while S[j] > pivotitem:\n",
    "            j -=1\n",
    "        print(i,j,S)\n",
    "        if i<j:\n",
    "            S[i],S[j] = S[j], S[i] # swap!\n",
    "    pivotpoint = j\n",
    "    S[low], S[pivotpoint] = S[pivotpoint], S[low] # swap!\n",
    "    return pivotpoint"
   ]
  },
  {
   "cell_type": "code",
   "execution_count": 24,
   "metadata": {},
   "outputs": [],
   "source": [
    "def quicksort2(S, low, high):\n",
    "    if high > low:\n",
    "        pivotpoint = partition2(S, low, high)\n",
    "        quicksort2(S, low, pivotpoint-1)\n",
    "        quicksort2(S, pivotpoint+1, high)"
   ]
  },
  {
   "cell_type": "markdown",
   "metadata": {},
   "source": [
    "#### 4) 입력 예시"
   ]
  },
  {
   "cell_type": "code",
   "execution_count": 25,
   "metadata": {},
   "outputs": [
    {
     "name": "stdout",
     "output_type": "stream",
     "text": [
      "Before :  [26, 5, 37, 1, 61, 11, 59, 15, 48, 19]\n",
      "After :  [1, 5, 11, 15, 19, 26, 37, 48, 59, 61]\n"
     ]
    }
   ],
   "source": [
    "S = [26, 5, 37, 1, 61, 11, 59, 15, 48, 19]\n",
    "print(\"Before : \", S)\n",
    "quicksort2(S, 0, len(S)-1)\n",
    "print(\"After : \", S)"
   ]
  },
  {
   "cell_type": "code",
   "execution_count": 27,
   "metadata": {},
   "outputs": [
    {
     "name": "stdout",
     "output_type": "stream",
     "text": [
      "Before :  [26, 5, 37, 1, 61, 11, 59, 15, 48, 19]\n",
      "2 9 [26, 5, 37, 1, 61, 11, 59, 15, 48, 19]\n",
      "4 7 [26, 5, 19, 1, 61, 11, 59, 15, 48, 37]\n",
      "6 5 [26, 5, 19, 1, 15, 11, 59, 61, 48, 37]\n",
      "2 3 [11, 5, 19, 1, 15, 26, 59, 61, 48, 37]\n",
      "3 2 [11, 5, 1, 19, 15, 26, 59, 61, 48, 37]\n",
      "1 0 [1, 5, 11, 19, 15, 26, 59, 61, 48, 37]\n",
      "5 4 [1, 5, 11, 19, 15, 26, 59, 61, 48, 37]\n",
      "7 9 [1, 5, 11, 15, 19, 26, 59, 61, 48, 37]\n",
      "9 8 [1, 5, 11, 15, 19, 26, 59, 37, 48, 61]\n",
      "8 7 [1, 5, 11, 15, 19, 26, 48, 37, 59, 61]\n",
      "After :  [1, 5, 11, 15, 19, 26, 37, 48, 59, 61]\n"
     ]
    }
   ],
   "source": [
    "S = [26, 5, 37, 1, 61, 11, 59, 15, 48, 19]\n",
    "print(\"Before : \", S)\n",
    "quicksort2(S, 0, len(S)-1)\n",
    "print(\"After : \", S)"
   ]
  },
  {
   "cell_type": "markdown",
   "metadata": {},
   "source": [
    "#### 5) Quick Sort Algorithm의 성능이 최악으로 떨어지는 경우\n",
    "- 예시 : S = [1, 2, 3, 4, 5]\n",
    "- 잘 정렬된 리스트인 경우, 괜히 리스트를 섞어버리게 되므로, 성능이 떨어짐\n",
    "- 오히려 랜덤으로 뒤죽박죽 섞인 리스트를 정렬할 때 유용"
   ]
  },
  {
   "cell_type": "markdown",
   "metadata": {},
   "source": [
    "## Ch 2.5. 쉬트라센의 행렬 곱셈 Strassen's Matrix Multiplication"
   ]
  },
  {
   "cell_type": "markdown",
   "metadata": {},
   "source": [
    "### (1) 행렬의 곱셈 문제\n",
    "\n",
    "#### 1) 문제 : 두 n x n 행렬의 곱을 구하시오\n",
    "- 이전에 행렬곱 정의에 충실하게 알고리즘을 적용했을 때의 시간 복잡도는 O(n^3)\n",
    "- 행렬 곱셈의 시간 복잡도를 더 줄일 수 있을까? : Strassen(1969) 시간 복잡도를 O(n^2.81)로 줄일 수 있다.\n",
    "\n",
    "#### 2) Strassen의 방법\n",
    "\n",
    "> [[c11, c12], [c21, c22]] = [[a11, a12], [a21, a22]] * [[b11, b12], [b21, b22]]\n",
    "\n",
    "- m1 = (a11 + a22)(b11 + b22)\n",
    "- m2 = (a21 + a22)b11\n",
    "- m3 = a11(b12 - b22)\n",
    "- m4 = a22(b21 - b11)\n",
    "- m5 = (a11 + a12)b22\n",
    "- m6 = (a21 - a11)(b11 + b12)\n",
    "- m7 = (a12 - a22)(b21 + b22)\n",
    "\n",
    "> C = [[m1 + m4 - m5 + m7, m3 + m5], [m2 + m4, m1 + m3 - m2 + m6]]\n",
    "\n",
    "#### 3) 기존 행렬 곱 공식과 비교\n",
    "- 기존 : 8 multiplications & 4 additions cij = Σaik*bkj. 시간 복잡도 O(n^3)\n",
    "- Strassen : 7 multiplications & 18 additions, subtractions. 시간 복잡도 O(n^2.81)\n",
    "- 덧셈 연산이 늘어나면서 복잡해 보이지만, 곱셈연산은 기본적으로 부하가 큰 연산이므로, 실질적으로는 알고리즘이 개선되는 결과를 얻음.\n",
    "\n",
    "### (2) Strassen's Multiplication as 'Divide-and-Conquer'\n",
    "\n",
    "#### 1) 원리\n",
    "- 큰 행렬을 네 개의 부분 행렬로 나누어 정복\n",
    "> [[C11, C12], [C21, C22]] = [[A11, A12], [A21, A22]] * [[B11, B12], [B21, B22]]\n",
    "\n",
    "- 예를 들어, 8x8 행렬 곱의 경우, 분할해서 4x4 행렬 4개로, 다시 2x2 행렬 4개로 분할해서 Strassen의 방식을 적용한다.\n",
    "\n",
    "#### 2) 예시\n",
    "> [[C11, C12], [C21, C22]] = [[[1,2],[5,6]], [[3,4],[7,8]], [[9,1],[4,5]], [[2,3],[6,7]]] * [[[8,9],[3,4]], [[1,2],[5,6]], [[7,8],[2,3]], [[9,1],[4,5]]]\n",
    "\n",
    "- 4x4 행렬 A, B가 주어졌을 때, 이를 각각 2x2 부분행렬 4개로 분할해서, Strassen의 방식을 적용\n",
    "- M1 = (A11 + A22) * (B11 + B22) = [[3,5],[11,13]] * [[17, 10],[7,9]] = [[86,75], [278,227]]\n",
    "- 이 과정을 M7까지 반복, 최종적으로 Conquer 과정에서 분할해서 연산한 내용을 병합\n",
    "- C = [[(M1 + M4 - M5 + M7), (M3 + M5)], [(M2 + M4), (M1 + M3 - M2 + M6)]]\n",
    "\n",
    "### (3) 코드 구현\n",
    "#### 1) 메인 함수 strassen"
   ]
  },
  {
   "cell_type": "code",
   "execution_count": 36,
   "metadata": {},
   "outputs": [],
   "source": [
    "def strassen(A,B):\n",
    "    n = len(A)\n",
    "    if n <= 2:\n",
    "        return matrixmult(A,B)\n",
    "    A11, A12, A21, A22 = divide(A)\n",
    "    B11, B12, B21, B22 = divide(B)\n",
    "    M1 = strassen(madd(A11, A22), madd(B11, B22))\n",
    "    M2 = strassen(madd(A21, A22), B11)\n",
    "    M3 = strassen(A11, msub(B12, B22))\n",
    "    M4 = strassen(A22, msub(B21, B11))\n",
    "    M5 = strassen(madd(A11, A12), B22)\n",
    "    M6 = strassen(msub(A21, A11), madd(B11, B12))\n",
    "    M7 = strassen(msub(A12, A22), madd(B21, B22))\n",
    "    return conquer(M1, M2, M3, M4, M5, M6, M7)"
   ]
  },
  {
   "cell_type": "markdown",
   "metadata": {},
   "source": [
    "#### 2) 부분행렬로 분할하는 함수 divide"
   ]
  },
  {
   "cell_type": "code",
   "execution_count": 37,
   "metadata": {},
   "outputs": [],
   "source": [
    "def divide(A):\n",
    "    n = len(A)\n",
    "    m = n//2\n",
    "    A11 = [[0] * m for _ in range(m)] # creating m*m sized matrix\n",
    "    A12 = [[0] * m for _ in range(m)]\n",
    "    A21 = [[0] * m for _ in range(m)]\n",
    "    A22 = [[0] * m for _ in range(m)]\n",
    "    for i in range(m):\n",
    "        for j in range(m):\n",
    "            A11[i][j] = A[i][j]\n",
    "            A12[i][j] = A[i][j+m]\n",
    "            A21[i][j] = A[i+m][j]\n",
    "            A22[i][j] = A[i+m][j+m]\n",
    "    return A11, A12, A21, A22"
   ]
  },
  {
   "cell_type": "markdown",
   "metadata": {},
   "source": [
    "#### 3) 분할해서 연산한 후 다시 병합하는 함수 conquer"
   ]
  },
  {
   "cell_type": "code",
   "execution_count": 38,
   "metadata": {},
   "outputs": [],
   "source": [
    "def conquer(M1, M2, M3, M4, M5, M6, M7):\n",
    "    C11 = madd(msub(madd(M1, M4), M5), M7)\n",
    "    C12 = madd(M3, M5)\n",
    "    C21 = madd(M2, M4)\n",
    "    C22 = madd(msub(madd(M1, M3), M2), M6)\n",
    "    m = len(C11)\n",
    "    n = m*2\n",
    "    C = [[0] * n for _ in range(n)] # creating n*n sized matrix as result C\n",
    "    for i in range(m):\n",
    "        for j in range(m):\n",
    "            C[i][j] = C11[i][j]\n",
    "            C[i][j+m] = C12[i][j]\n",
    "            C[i+m][j] = C21[i][j]\n",
    "            C[i+m][j+m] = C22[i][j]\n",
    "    return C"
   ]
  },
  {
   "cell_type": "markdown",
   "metadata": {},
   "source": [
    "#### 4) 행렬 덧셈 & 뺄셈"
   ]
  },
  {
   "cell_type": "code",
   "execution_count": 46,
   "metadata": {},
   "outputs": [],
   "source": [
    "def madd(A,B):\n",
    "    n = len(A)\n",
    "    C = [[0] * n for _ in range(n)]\n",
    "    for i in range(n):\n",
    "        for j in range(n):\n",
    "            C[i][j] = A[i][j] + B[i][j]\n",
    "    return C\n",
    "\n",
    "def msub(A,B):\n",
    "    n = len(A)\n",
    "    C = [[0] * n for _ in range(n)]\n",
    "    for i in range(n):\n",
    "        for j in range(n):\n",
    "            C[i][j] = A[i][j] - B[i][j]\n",
    "    return C"
   ]
  },
  {
   "cell_type": "markdown",
   "metadata": {},
   "source": [
    "#### 5) 전통적인 방식의 행렬곱 공식 matrixmult\n",
    ": n <= threshold 일때 적용되며, 본 예시에서는 threshold = 2로 지정"
   ]
  },
  {
   "cell_type": "code",
   "execution_count": 58,
   "metadata": {},
   "outputs": [],
   "source": [
    "def matrixmult(A,B):\n",
    "    n = len(A)\n",
    "    C = [[0] * n for _ in range(n)]\n",
    "    for i in range(n):\n",
    "        for j in range(n):\n",
    "            for k in range(n):\n",
    "                C[i][j] += A[i][k] * B[k][j]\n",
    "    return C"
   ]
  },
  {
   "cell_type": "markdown",
   "metadata": {},
   "source": [
    "### (4) 입력 예시"
   ]
  },
  {
   "cell_type": "code",
   "execution_count": 59,
   "metadata": {},
   "outputs": [
    {
     "name": "stdout",
     "output_type": "stream",
     "text": [
      "A =  [[1, 2, 3, 4], [5, 6, 7, 8], [9, 1, 2, 3], [4, 5, 6, 7]]\n",
      "B =  [[8, 9, 1, 2], [3, 4, 5, 6], [7, 8, 9, 1], [2, 3, 4, 5]]\n",
      "C[0] =  [43, 53, 54, 37]\n",
      "C[1] =  [123, 149, 130, 93]\n",
      "C[2] =  [95, 110, 44, 41]\n",
      "C[3] =  [103, 125, 111, 79]\n"
     ]
    }
   ],
   "source": [
    "A = [[1, 2, 3, 4],\n",
    "     [5, 6, 7, 8],\n",
    "     [9, 1, 2, 3],\n",
    "     [4, 5, 6, 7]]\n",
    "B = [[8, 9, 1, 2],\n",
    "     [3, 4, 5, 6],\n",
    "     [7, 8, 9, 1],\n",
    "     [2, 3, 4, 5]]\n",
    "\n",
    "threshold = 2\n",
    "print(\"A = \", A)\n",
    "print(\"B = \", B)\n",
    "C = strassen(A,B)\n",
    "\n",
    "for i in range(len(C)):\n",
    "    print(\"C[%d] = \"%(i), C[i])"
   ]
  },
  {
   "cell_type": "code",
   "execution_count": 60,
   "metadata": {},
   "outputs": [
    {
     "name": "stdout",
     "output_type": "stream",
     "text": [
      "D[0] =  [43, 53, 54, 37]\n",
      "D[1] =  [123, 149, 130, 93]\n",
      "D[2] =  [95, 110, 44, 41]\n",
      "D[3] =  [103, 125, 111, 79]\n"
     ]
    }
   ],
   "source": [
    "D = matrixmult(A,B)\n",
    "\n",
    "for i in range(len(D)):\n",
    "    print(\"D[%d] = \"%(i), D[i])"
   ]
  },
  {
   "cell_type": "markdown",
   "metadata": {},
   "source": [
    "> Strassen 방식을 통해서 구한 C와 전통적인 방식으로 구한 D의 결과가 같음을 알 수 있다."
   ]
  },
  {
   "cell_type": "markdown",
   "metadata": {},
   "source": [
    "## Ch 2.6. 큰 정수의 계산법"
   ]
  },
  {
   "cell_type": "markdown",
   "metadata": {},
   "source": [
    "### (1) 큰 정수를 다룰 때의 문제\n",
    "\n",
    "#### 1) 문제\n",
    ": 특정 컴퓨터나 언어가 표현할 수 없는 큰 정수의 산술연산 (int, double type 등이 표현할 수 있는 범위를 넘어서는 경우\n",
    "\n",
    "#### 2) 10진수를 소프트웨어적으로 표현하는 방법\n",
    "- 리스트를 이용하여 각 자리 수(digit)를 하나의 원소로 저장\n",
    "- 예 : 567832 -> S = [2, 3, 8, 7, 6, 5]\n",
    "- S[5]= 5, S[4]= 6, S[3]= 7, S[2]= 8, S[1]= 3, S[0]= 2"
   ]
  },
  {
   "cell_type": "markdown",
   "metadata": {},
   "source": [
    "### (2) 큰 정수의 덧셈\n",
    "\n",
    "#### 1) n개의 자릿수(digit) 각각을 더하면서, 올림수 (carry)를 고려\n",
    "- | 1 1 0 0 << CARRY\n",
    "- | 9 8 7 6\n",
    "- | + 5 4 3\n",
    "- | -------\n",
    "- 1 0 4 1 9\n",
    "\n",
    "#### 2) 코드 구현"
   ]
  },
  {
   "cell_type": "code",
   "execution_count": 1,
   "metadata": {},
   "outputs": [],
   "source": [
    "def ladd(u,v):\n",
    "    n = len(u) if (len(u)>len(v)) else len(v) # choose the longer one as n\n",
    "    result = []\n",
    "    carry = 0\n",
    "    for k in range(n):\n",
    "        i = u[k] if (k < len(u)) else 0\n",
    "        j = v[k] if (k < len(v)) else 0\n",
    "        value = i + j + carry\n",
    "        carry = value//10\n",
    "        result.append(value%10)\n",
    "    if carry > 0:\n",
    "        result.append(carry)\n",
    "    return result"
   ]
  },
  {
   "cell_type": "markdown",
   "metadata": {},
   "source": [
    "#### 3) 예시"
   ]
  },
  {
   "cell_type": "code",
   "execution_count": 2,
   "metadata": {},
   "outputs": [
    {
     "name": "stdout",
     "output_type": "stream",
     "text": [
      "168\n",
      "[1, 6, 8]\n"
     ]
    }
   ],
   "source": [
    "u = [3,2,1] #u = 123\n",
    "v = [5,4] #v = 45\n",
    "print(123+45)\n",
    "print(ladd(u,v)[::-1]) #[::-1] makes the list reversed"
   ]
  },
  {
   "cell_type": "code",
   "execution_count": 3,
   "metadata": {},
   "outputs": [
    {
     "name": "stdout",
     "output_type": "stream",
     "text": [
      "9991555\n",
      "[9, 9, 9, 1, 5, 5, 5]\n"
     ]
    }
   ],
   "source": [
    "u = [2,3,8,7,6,5] #u = 567832\n",
    "v = [3,2,7,3,2,4,9] #v = 9423723\n",
    "print(567832+9423723)\n",
    "print(ladd(u,v)[::-1])"
   ]
  },
  {
   "cell_type": "markdown",
   "metadata": {},
   "source": [
    "### (3) 큰 정수의 곱셈\n",
    "\n",
    "#### 1) BruteForce 방법을 이용할 경우\n",
    ": 각 자리 수끼리 곱하고 마지막에 더해주는 방식 ∈ Θ(n^2)\n",
    "\n",
    "#### 2) 분할정복 Divide-and-Conquer을 이용한 큰 정수의 곱셈\n",
    "- n개의 자릿수(digit)로 된 숫자를 n/2개의 자릿수로 분할\n",
    "- 둘 중 하나의 자릿수는 [n/2]개이고, 다른 하나는 [n/2]개가 됨\n",
    "\n",
    "> 567832 = 567 * 10^3 + 832\n",
    "- 6 digits 3 digits   3 digits\n",
    "\n",
    "> 9423723 = 9423 * 10^3 + 723\n",
    "- 7 digits  4 digits   3 digits\n",
    "\n",
    "- 자릿수가 분할된 두 정수의 곱셈\n",
    ": 두 개의 정수 u, v를 분할하여 곱셈 연산을 함\n",
    "\n",
    "> u = x * 10^m + y\n",
    "\n",
    "> v = w * 10^m + z\n",
    "\n",
    "> uv = (x * 10^m + y)(w * 10^m + z)\n",
    "   = xw * 10^2m + (xz + yw) * 10^m + yz\n",
    "   \n",
    "#### 3) 코드 구현"
   ]
  },
  {
   "cell_type": "code",
   "execution_count": 4,
   "metadata": {},
   "outputs": [],
   "source": [
    "def prod(u,v):\n",
    "    n = len(u) if (len(u)>len(v)) else len(v)\n",
    "    if (len(u)==0) | (len(v)==0):\n",
    "        return [0]\n",
    "    elif n<= threshold: # we'll stop when n reaches to threshold (here we assume 1)\n",
    "        return lmult(u,v)\n",
    "    else:\n",
    "        m = n//2\n",
    "        x = div(u,m); y = rem(u,m)\n",
    "        w = div(v,m); z = rem(v,m)\n",
    "        p1 = prod(x,w)\n",
    "        p2 = ladd(prod(x,z), prod(w,y))\n",
    "        p3 = prod(y,z)\n",
    "        return ladd(ladd(exp(p1, 2*m), exp(p2, m)),p3)"
   ]
  },
  {
   "cell_type": "markdown",
   "metadata": {},
   "source": [
    "### (4) 큰 정수의 지수 곱셈(exp)과 나눗셈(div)\n",
    "\n",
    "#### 1) 10^m으로 곱하기\n",
    ": 왼쪽으로 m 자릿수만큼 shift\n",
    "> 567 * 10^3 = 567000 (567 각각을 3자리 shift한 후, 빈 자리는 0으로 채운다)\n",
    "\n",
    "#### 2) 10^m으로 나눈 나머지와 몫\n",
    "- 1의 자리에서 m의 자리까지가 나머지 567832 rem 10^3 = 832\n",
    "- m+1의 자리에서 n자리까지가 몫 567832 div 10^3 = 567\n",
    "\n",
    "#### 3) 코드 구현"
   ]
  },
  {
   "cell_type": "code",
   "execution_count": 5,
   "metadata": {},
   "outputs": [],
   "source": [
    "def exp(u,m):\n",
    "    if u == [0]:\n",
    "        return [0]\n",
    "    else:\n",
    "        return ([0]*m)+u"
   ]
  },
  {
   "cell_type": "code",
   "execution_count": 6,
   "metadata": {},
   "outputs": [],
   "source": [
    "def div(u,m):\n",
    "    if len(u) < m:\n",
    "        u.append(0)\n",
    "    return u[m:len(u)] # from m to n"
   ]
  },
  {
   "cell_type": "code",
   "execution_count": 7,
   "metadata": {},
   "outputs": [],
   "source": [
    "def rem(u,m):\n",
    "    if len(u) < m:\n",
    "        u.append(0)\n",
    "    return u[0:m] #from 0 to m-1"
   ]
  },
  {
   "cell_type": "markdown",
   "metadata": {},
   "source": [
    "### (5) 임계값 (threshold)과 단순 곱셈\n",
    "\n",
    "#### 1) 임계값\n",
    ": 특정 자리수까지 반복하고, 그 지점에서 종료\n",
    "> 본 예제에서는 임계값을 1로 설정해서, 자리수를 1자리 단위로 쪼개었을 때, 더 이상 쪼개기를 하지 않고, 연산을 시작하게 된다.\n",
    "\n",
    "#### 2) 코드 구현"
   ]
  },
  {
   "cell_type": "code",
   "execution_count": 8,
   "metadata": {},
   "outputs": [],
   "source": [
    "def lmult(u,v):\n",
    "    i = u[0] if (len(u) > 0) else 0\n",
    "    j = v[0] if (len(v) > 0) else 0\n",
    "    value = i * j\n",
    "    carry = value//10\n",
    "    result = []\n",
    "    result.append(value%10)\n",
    "    if carry > 0:\n",
    "        result.append(carry)\n",
    "    return result"
   ]
  },
  {
   "cell_type": "markdown",
   "metadata": {},
   "source": [
    "#### 3) 최종 코드를 활용한 예시\n",
    ": prod(u,v) | exp(u,m) | div(u,m) | rem(u,m) | lmult(u,v) | ladd(u,v) 활용"
   ]
  },
  {
   "cell_type": "code",
   "execution_count": 10,
   "metadata": {},
   "outputs": [
    {
     "name": "stdout",
     "output_type": "stream",
     "text": [
      "5351091478536\n",
      "[5, 3, 5, 1, 0, 9, 1, 4, 7, 8, 5, 3, 6]\n"
     ]
    }
   ],
   "source": [
    "u = [2,3,8,7,6,5]\n",
    "v = [3,2,7,3,2,4,9]\n",
    "threshold = 1\n",
    "print(567832 * 9423723)\n",
    "print(prod(u,v)[::-1])"
   ]
  },
  {
   "cell_type": "markdown",
   "metadata": {},
   "source": [
    "### (6) 큰 정수 연산 알고리즘의 효율성 개선\n",
    "\n",
    "#### 1) 큰 정수의 곱셈 알고리즘에서 한 것\n",
    "- 기본 연산 : 한 자릿수에서의 단위 연산 (총 m번 실행)\n",
    "- 입력 크기 : 두 정수의 자릿수 (n개의 자릿수)\n",
    "- 최선 | 최악 | 평균 : 최악의 경우 두 정수에 모두 0이 없을 때\n",
    "- 시간 복잡도 분석 : prod() 함수에서 재귀호출을 4번 실행\n",
    "- W(s) = 0, W(n) = 4W(n/2) + cn\n",
    "- W(n) ∈ Θ(n^log2 4) = Θ(n^2)\n",
    "> 결국 brute force 방식으로 계산한 것보다 이점이 없음 !\n",
    "\n",
    "#### 2) 효율성 개선\n",
    "- 기존 알고리즘 모델에서 재귀호출을 4번 하기 때문에 효율성이 개선되지 않았다.\n",
    "- 재귀호출의 횟수를 줄이는 방향으로 효율성을 개선\n",
    "\n",
    "> uv = xw * 10^2m + (xz+yw) * 10^m + yz\n",
    "\n",
    "> uv를 r로 치환하여 식 정리\n",
    "\n",
    "> r = uv = (x+y)(w+z) = xw + (xz+yw) + yz\n",
    "\n",
    "> xz + yw = r - (xw+yz)\n",
    "\n",
    "> 곱셈이 3번으로 줄어든다 : xz, yw, 그리고 xw+yz는 직접 계산하는 것이 아니라 xz와 yw를 통해 구하게 되므로, 한번 연산을 줄이는 효과\n",
    " \n",
    "#### 3) 코드 구현"
   ]
  },
  {
   "cell_type": "code",
   "execution_count": 27,
   "metadata": {},
   "outputs": [],
   "source": [
    "def prod2(u,v):\n",
    "    n = len(u) if (len(u) > len(v)) else len(v)\n",
    "    if (len(u) == 0) | (len(v) == 0):\n",
    "        return [0]\n",
    "    elif n <= threshold:\n",
    "        return lmult(u,v)\n",
    "    else:\n",
    "        m = n//2\n",
    "        x = div(u,m); y = rem(u,m)\n",
    "        w = div(v,m); z = rem(v,m)\n",
    "        r = prod2(ladd(x,y), ladd(w,z))\n",
    "        p1 = prod2(x,w)\n",
    "        p3 = prod2(y,z)\n",
    "        p2 = lsub(r, ladd(p1, p3))\n",
    "        return ladd(ladd(exp(p1, 2*m), exp(p2,m)), p3)"
   ]
  },
  {
   "cell_type": "code",
   "execution_count": 33,
   "metadata": {},
   "outputs": [],
   "source": [
    "def lsub(u,v):\n",
    "    n = len(u) if (len(u) > len(v)) else len(v)\n",
    "    result = []\n",
    "    borrow = 0\n",
    "    for k in range(n):\n",
    "        i = u[k] if (k < len(u)) else 0\n",
    "        j = v[k] if (k < len(v)) else 0\n",
    "        value = i - j + borrow\n",
    "        if value < 0 :\n",
    "            value +=10\n",
    "            borrow = -1\n",
    "        else:\n",
    "            borrow = 0\n",
    "        result.append(value%10)\n",
    "    #if borrow < 0:\n",
    "    #    print(\"음의 정수는 처리 못 함\")\n",
    "    return result"
   ]
  },
  {
   "cell_type": "markdown",
   "metadata": {},
   "source": [
    "#### 4) 개선된 알고리즘 prod2()의 시간 복잡도\n",
    ": 재귀 호출의 숫자를 3회로 줄임\n",
    "> W(n) ∈ Θ(n^log2 3) ≈ Θ(n^1.58) < Θ(n^2)\n",
    "\n",
    "#### 5) 예시"
   ]
  },
  {
   "cell_type": "code",
   "execution_count": 34,
   "metadata": {},
   "outputs": [
    {
     "name": "stdout",
     "output_type": "stream",
     "text": [
      "5351091478536\n",
      "[0, 5, 3, 5, 1, 0, 9, 1, 4, 7, 8, 5, 3, 6]\n"
     ]
    }
   ],
   "source": [
    "u = [2,3,8,7,6,5]\n",
    "v = [3,2,7,3,2,4,9]\n",
    "print(567832 * 9423723)\n",
    "print(prod2(u,v)[::-1])"
   ]
  },
  {
   "cell_type": "code",
   "execution_count": null,
   "metadata": {},
   "outputs": [],
   "source": []
  }
 ],
 "metadata": {
  "kernelspec": {
   "display_name": "Python 3",
   "language": "python",
   "name": "python3"
  },
  "language_info": {
   "codemirror_mode": {
    "name": "ipython",
    "version": 3
   },
   "file_extension": ".py",
   "mimetype": "text/x-python",
   "name": "python",
   "nbconvert_exporter": "python",
   "pygments_lexer": "ipython3",
   "version": "3.8.3"
  }
 },
 "nbformat": 4,
 "nbformat_minor": 4
}
