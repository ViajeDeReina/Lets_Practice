{
 "cells": [
  {
   "cell_type": "markdown",
   "metadata": {},
   "source": [
    "# Python으로 배우는 Algorithm 기초\n",
    "\n",
    "# Ch 2. 분할 정복 알고리즘 Divide-and-Conquer"
   ]
  },
  {
   "cell_type": "markdown",
   "metadata": {},
   "source": [
    "## Ch 2.1 이분 검색 Binary Search"
   ]
  },
  {
   "cell_type": "markdown",
   "metadata": {},
   "source": [
    "### (1) 이분 검색 문제\n",
    "- 정렬되지 않은 리스트 S에서 주어진 키 x가 존재하는가? : 순차 탐색\n",
    "- 정렬된 리스트 S에서 주어진 키 x가 존재하는가? : 이분 검색\n",
    "> 재귀적 방법으로 이분 검색 로직 구상하기\n",
    "\n",
    "### (2) 분할정복 알고리즘으로서의 이분 검색\n",
    "#### 1) 문제 : 정렬된 리스트 S에서 어떤 키 x가 존재하는가?\n",
    "#### 2) 해답 : 존재하면 S에서의 x의 위치, 존재하지 않는 경우 -1을 반환\n",
    "#### 3) 분할정복법\n",
    "- S의 정가운데 원소와 x를 비교하여, 같으면 해당 위치를 반환\n",
    "- 아닌 경우\n",
    "- [Divide] 정가운데 원소를 기준으로 S를 두 개의 리스트로 분할\n",
    "- [Conquer] x가 정가운데 원소보다 크면 오른쪽, 작으면 왼쪽을 호출. 남은 반쪽은 버림.\n",
    "- [Obtain] 선택한 리스트에서 얻은 답을 반환"
   ]
  },
  {
   "cell_type": "markdown",
   "metadata": {},
   "source": [
    "#### 4) 코드 (Recursive)"
   ]
  },
  {
   "cell_type": "code",
   "execution_count": 2,
   "metadata": {},
   "outputs": [],
   "source": [
    "def binarySearch (S, x, low, high):\n",
    "    if low > high:\n",
    "        return -1\n",
    "    else:\n",
    "        mid = (low + high)//2\n",
    "        if x == S[mid]:\n",
    "            return mid\n",
    "        elif x < S[mid]:\n",
    "            return binarySearch(S, x, low, mid-1)\n",
    "        else:\n",
    "            return binarySearch(S, x, mid+1, high)"
   ]
  },
  {
   "cell_type": "code",
   "execution_count": 3,
   "metadata": {},
   "outputs": [
    {
     "name": "stdout",
     "output_type": "stream",
     "text": [
      "S =  [8, 10, 12, 13, 14, 18, 20, 25, 27, 30, 35, 40, 45]\n",
      "x =  18\n",
      "loc =  5\n"
     ]
    }
   ],
   "source": [
    "S = [8, 10, 12, 13, 14, 18, 20, 25, 27, 30, 35, 40, 45]\n",
    "x = 18\n",
    "loc = binarySearch(S, x, 0, len(S)-1)\n",
    "print(\"S = \", S)\n",
    "print(\"x = \", x)\n",
    "print(\"loc = \", loc)"
   ]
  },
  {
   "cell_type": "code",
   "execution_count": 4,
   "metadata": {},
   "outputs": [
    {
     "name": "stdout",
     "output_type": "stream",
     "text": [
      "S =  [8, 10, 12, 13, 14, 18, 20, 25, 27, 30, 35, 40, 45]\n",
      "y =  17\n",
      "loc2 =  -1\n"
     ]
    }
   ],
   "source": [
    "y = 17 # which doesn't exist in the list S\n",
    "loc2 = binarySearch(S, y, 0, len(S)-1)\n",
    "print(\"S = \", S)\n",
    "print(\"y = \", y)\n",
    "print(\"loc2 = \", loc2)"
   ]
  },
  {
   "cell_type": "markdown",
   "metadata": {},
   "source": [
    "## Ch 2.2 합병 정렬 Merge Sort"
   ]
  },
  {
   "cell_type": "markdown",
   "metadata": {},
   "source": [
    "### (1) 정렬되지 않은 리스트의 정렬\n",
    ": 기존에 교환정렬을 통한 리스트 정렬 (greedy algorithm에 가까운 형태)\n",
    "> 합병정렬을 통해 개선된 알고리즘 사용 가능 !\n",
    "\n",
    "### (2) 합병 정렬\n",
    "\n",
    "#### 1) Divide\n",
    ": 원소가 n개인 S를 n/2개의 원소를 가진 두 개의 리스트로 분할\n",
    "#### 2) Conquer\n",
    ": 왼쪽의 리스트와 오른쪽의 리스트를 각각 재귀적으로 합병해 정렬\n",
    "#### 3) Combine\n",
    ": 각각 정렬된 두 개의 리스트를 정렬된 하나의 리스트로 합병하여 리턴\n",
    "#### 4) 정렬 방식\n",
    ": merge 과정에서 대소 비교해서 정렬"
   ]
  },
  {
   "cell_type": "markdown",
   "metadata": {},
   "source": [
    "- input S = [27, 10, 12, 20 | 25, 13, 15, 22]\n",
    "- Divide    [27, 10 | 12, 20] [25, 13 | 15, 22]\n",
    "- Divide    [27 | 10] [12 | 20] [25 | 13] [15 | 22]\n",
    "- Divide    [27] [10] [12] [20] [25] [13] [15] [22]\n",
    "- merge    [10, 27] [12, 20]   [13, 25] [15, 22]\n",
    "- merge    [10, 12, 20, 27]    [13, 15, 22, 25]\n",
    "- merge    [10, 12, 13, 15, 20, 22, 25, 27]"
   ]
  },
  {
   "cell_type": "markdown",
   "metadata": {},
   "source": [
    "#### 5) 코드"
   ]
  },
  {
   "cell_type": "code",
   "execution_count": 5,
   "metadata": {},
   "outputs": [],
   "source": [
    "def mergesort(S):\n",
    "    n = len(S)\n",
    "    if n <= 1:\n",
    "        return S\n",
    "    else :\n",
    "        mid = n//2\n",
    "        U = mergesort(S[0:mid])\n",
    "        V = mergesort(S[mid:n])\n",
    "        return merge(U, V)\n",
    "\n",
    "def merge(U, V):\n",
    "    S = []\n",
    "    i = j = 0\n",
    "    while (i < len(U)) & (j < len(V)):\n",
    "        if U[i] < V[j]:\n",
    "            S.append(U[i])\n",
    "            i += 1\n",
    "        else:\n",
    "            S.append(V[j])\n",
    "            j += 1\n",
    "    if i < len(U):\n",
    "        S += U[i:len(U)]\n",
    "    else :\n",
    "        S += V[j:len(V)]\n",
    "    return S"
   ]
  },
  {
   "cell_type": "markdown",
   "metadata": {},
   "source": [
    "#### 6) 입력 사례 확인"
   ]
  },
  {
   "cell_type": "code",
   "execution_count": 6,
   "metadata": {},
   "outputs": [
    {
     "name": "stdout",
     "output_type": "stream",
     "text": [
      "Before :  [27, 10, 12, 20, 25, 13, 15, 22]\n",
      "After :  [10, 12, 13, 15, 20, 22, 25, 27]\n"
     ]
    }
   ],
   "source": [
    "S = [27, 10, 12, 20, 25, 13, 15, 22]\n",
    "print(\"Before : \", S)\n",
    "X = mergesort(S)\n",
    "print(\"After : \", X)"
   ]
  },
  {
   "cell_type": "code",
   "execution_count": 7,
   "metadata": {},
   "outputs": [
    {
     "name": "stdout",
     "output_type": "stream",
     "text": [
      "[27]\n",
      "[10]\n",
      "[12]\n",
      "[20]\n",
      "[10, 27]\n",
      "[12, 20]\n",
      "[25]\n",
      "[13]\n",
      "[15]\n",
      "[22]\n",
      "[13, 25]\n",
      "[15, 22]\n",
      "[10, 12, 20, 27]\n",
      "[13, 15, 22, 25]\n",
      "[10, 12, 13, 15, 20, 22, 25, 27]\n"
     ]
    }
   ],
   "source": [
    "def mergesort_detail(S):\n",
    "    n = len(S)\n",
    "    if n <= 1:\n",
    "        return S\n",
    "    else :\n",
    "        mid = n//2\n",
    "        U = mergesort_detail(S[0:mid])\n",
    "        V = mergesort_detail(S[mid:n])\n",
    "        print(U)\n",
    "        print(V)\n",
    "        return merge(U, V)\n",
    "\n",
    "Y = mergesort_detail(S)\n",
    "print(Y)"
   ]
  },
  {
   "cell_type": "markdown",
   "metadata": {},
   "source": [
    "### (3) 합병정렬 알고리즘의 개선\n",
    "#### 1)  기존 알고리즘의 문제점\n",
    "- 입력 리스트 S 이외에 리스트 U, V를 추가적으로 사용\n",
    "> 메모리 사용의 비효율성이 발생. 더 효율적인 방법 필요\n",
    "- 추가적으로 만들어지는 리스트 원소의 수가 너무 많아지는 문제\n",
    "- mergesort() 호출 시, 새로운 리스트 U와 V를 생성\n",
    "- 첫번째 재귀 호출 시 원소 수 : U n/2개, V n/2개\n",
    "- 두번째 재귀 호출 시 원소 수 : U n/4개, V n/4개\n",
    "...\n",
    "- 전체 재귀 호출 시 원소 개수 : n + n/2 + n/4 + ... = 약 2n\n",
    "\n",
    "#### 2) 개선된 코드"
   ]
  },
  {
   "cell_type": "code",
   "execution_count": 15,
   "metadata": {},
   "outputs": [],
   "source": [
    "def mergesort2(S, low, high):\n",
    "    if low < high:\n",
    "        mid = (low + high)//2\n",
    "        mergesort2(S, low, mid) # previously U\n",
    "        mergesort2(S, mid+1, high) #previously V\n",
    "        print(S[low:high+1])\n",
    "        merge2(S, low, mid, high)\n",
    "        \n",
    "def merge2(S, low, mid, high):\n",
    "    U = [] # as temporary array list\n",
    "    i = low\n",
    "    j = mid + 1\n",
    "    while (i <= mid) & (j <= high):\n",
    "        if (S[i] < S[j]):\n",
    "            U.append(S[i])\n",
    "            i += 1\n",
    "        else:\n",
    "            U.append(S[j])\n",
    "            j += 1\n",
    "    if i <= mid:\n",
    "        U += S[i:mid + 1]\n",
    "    else:\n",
    "        U += S[j:high + 1]\n",
    "    for k in range(low, high+1):\n",
    "        S[k] = U[k-low]"
   ]
  },
  {
   "cell_type": "code",
   "execution_count": 16,
   "metadata": {},
   "outputs": [
    {
     "name": "stdout",
     "output_type": "stream",
     "text": [
      "Before :  [27, 10, 12, 20, 25, 13, 15, 22]\n",
      "[27, 10]\n",
      "[12, 20]\n",
      "[10, 27, 12, 20]\n",
      "[25, 13]\n",
      "[15, 22]\n",
      "[13, 25, 15, 22]\n",
      "[10, 12, 20, 27, 13, 15, 22, 25]\n",
      "After :  [10, 12, 13, 15, 20, 22, 25, 27]\n"
     ]
    }
   ],
   "source": [
    "S = [27, 10, 12, 20, 25, 13, 15, 22]\n",
    "print(\"Before : \", S)\n",
    "mergesort2(S, 0, len(S)-1)\n",
    "print(\"After : \", S)"
   ]
  },
  {
   "cell_type": "markdown",
   "metadata": {},
   "source": [
    "## Ch 2.3. 분할정복의 설계 방법\n",
    "\n",
    "### (1) 설계 전략\n",
    "#### 1) 분할\n",
    ": 문제 입력 사례를 둘 이상의 작은 입력사례로 분할\n",
    "#### 2) 정복\n",
    ": 작은 입력 사례들을 각각 정복. 작은 입력 사례들이 충분히 작지않다면 재귀호출로 작게 만든다.\n",
    "#### 3) 통합\n",
    ": (필요 시) 작은 입력 사례들의 해답을 통합하여, 원래 입력 사례의 해답을 도출 (merge sort 사례에서)\n",
    "\n",
    "### (2) 문제해결 알고리즘의 종류\n",
    "\n",
    "#### 1) Brute Force\n",
    ": 순차 탐색 sequential search와 같이 단순무식(...)한 방법으로 답 찾아내기\n",
    "#### 2) Divide-and-Conquer\n",
    ": 분할정복. Binary Search, merge sort 등\n",
    "#### 3) Greedy Approach\n",
    ": 탐욕법. 하나씩 순차적으로 찾아가는 방식. Exchange sort. 어떤 측면에서는 가장 비효율적인 분할정복 알고리즘이라고도 볼 수 있다.\n",
    "#### 4) Dynamic Programming\n",
    ": 동적 계획법. 분할 정복이 Top-Down 방식이라면, 동적 계획법은 Bottom-up 방식이라고 볼 수 있음."
   ]
  },
  {
   "cell_type": "markdown",
   "metadata": {},
   "source": [
    "## Ch 2.4. Quick Sort 퀵 정렬 (분할 교환정렬)\n",
    "\n",
    "### (1) 퀵 정렬 : 가장 대표적인 분할 정복 알고리즘\n",
    "#### 1) 내부 (in-place) 정렬\n",
    "- 추가적인 리스트, 배열을 생성하지 않는 정렬\n",
    "- Hoare (1962), Quick Sort Algorithm\n",
    "\n",
    "#### 2) 원리\n",
    "- [Divide] : 기준 원소(pivot)를 정해서, 기준 원소를 기준으로 좌우로 분할\n",
    "- [Conquer] : 왼쪽의 리스트와 오른쪽의 리스트를 각각 재귀적으로 퀵 정렬\n",
    "- [Obtain] : 정렬된 리스트를 반환\n",
    "\n",
    "#### 3) 코드"
   ]
  },
  {
   "cell_type": "code",
   "execution_count": 18,
   "metadata": {},
   "outputs": [],
   "source": [
    "def quicksort(S, low, high):\n",
    "    if high > low:\n",
    "        pivotpoint = partition(S, low, high)\n",
    "        quicksort(S, low, pivotpoint-1)\n",
    "        quicksort(S, pivotpoint+1, high)"
   ]
  },
  {
   "cell_type": "markdown",
   "metadata": {},
   "source": [
    "### (2) 기준원소 pivot을 어떻게 정할 것인가?\n",
    "\n",
    "#### 1) 편의상 리스트의 첫 원소를 기준 원소로 지정해서 알고리즘을 생성\n",
    "#### 2)  정렬 과정\n",
    "\n",
    "- input S = [15, 22, 13, 27, 12, 10, 20, 25]\n",
    "- 리스트의 첫 원소 15를 pivot으로 하고, pivot보다 작은 것은 왼쪽, 큰 것은 오른쪽에 배치\n",
    "- S' = [13, 12, 10] [15] [22, 27, 20, 25]\n",
    "- 재귀 호출을 통해 각각 분할된 상태에서 각각의 첫 원소를 pivot으로 하여 재배치하는 방식으로 진행\n",
    "- S'' = [12, 10] [13] [15] [20] [22] [27, 25]\n",
    "- S''' = [10][12][13][15][20][22][25][27]\n",
    "\n",
    "> 결과적으로 새로운 리스트를 생성하지 않고, 동일한 리스트 S 내에서 정렬이 완료됨\n",
    "\n",
    "#### 3) 기준원소를 이용해서 어떻게 리스트를 나눌 수 있을까?\n",
    ": 두 개의 인덱스 i,j를 이용해서 비교한 후 서로 교환하는 방식 (compare & swap)\n",
    "> pivotpoint = partition(S, low=0, high=7)\n",
    "\n",
    "#### 4) 리스트를 나누는 partition 함수 코드 구현"
   ]
  },
  {
   "cell_type": "code",
   "execution_count": 21,
   "metadata": {},
   "outputs": [],
   "source": [
    "def partition(S, low, high):\n",
    "    pivotitem = S[low] # set the first item of the list as pivot\n",
    "    j = low\n",
    "    for i in range(low+1, high+1):\n",
    "        print(i, j, S) # to see the sorting process\n",
    "        if S[i] < pivotitem :\n",
    "            j +=1\n",
    "            S[i], S[j] = S[j], S[i] # swap\n",
    "    pivotpoint = j\n",
    "    S[low], S[pivotpoint] = S[pivotpoint], S[low]\n",
    "    return pivotpoint"
   ]
  },
  {
   "cell_type": "markdown",
   "metadata": {},
   "source": [
    "#### 5) 입력 예시"
   ]
  },
  {
   "cell_type": "code",
   "execution_count": 20,
   "metadata": {},
   "outputs": [
    {
     "name": "stdout",
     "output_type": "stream",
     "text": [
      "Before :  [15, 22, 13, 27, 12, 10, 20, 25]\n",
      "After :  [10, 12, 13, 15, 20, 22, 25, 27]\n"
     ]
    }
   ],
   "source": [
    "S = [15, 22, 13, 27, 12, 10, 20, 25]\n",
    "print(\"Before : \", S)\n",
    "quicksort(S, 0, len(S)-1)\n",
    "print(\"After : \", S)"
   ]
  },
  {
   "cell_type": "code",
   "execution_count": 22,
   "metadata": {},
   "outputs": [
    {
     "name": "stdout",
     "output_type": "stream",
     "text": [
      "Before :  [15, 22, 13, 27, 12, 10, 20, 25]\n",
      "1 0 [15, 22, 13, 27, 12, 10, 20, 25]\n",
      "2 0 [15, 22, 13, 27, 12, 10, 20, 25]\n",
      "3 1 [15, 13, 22, 27, 12, 10, 20, 25]\n",
      "4 1 [15, 13, 22, 27, 12, 10, 20, 25]\n",
      "5 2 [15, 13, 12, 27, 22, 10, 20, 25]\n",
      "6 3 [15, 13, 12, 10, 22, 27, 20, 25]\n",
      "7 3 [15, 13, 12, 10, 22, 27, 20, 25]\n",
      "1 0 [10, 13, 12, 15, 22, 27, 20, 25]\n",
      "2 0 [10, 13, 12, 15, 22, 27, 20, 25]\n",
      "2 1 [10, 13, 12, 15, 22, 27, 20, 25]\n",
      "5 4 [10, 12, 13, 15, 22, 27, 20, 25]\n",
      "6 4 [10, 12, 13, 15, 22, 27, 20, 25]\n",
      "7 5 [10, 12, 13, 15, 22, 20, 27, 25]\n",
      "7 6 [10, 12, 13, 15, 20, 22, 27, 25]\n",
      "After :  [10, 12, 13, 15, 20, 22, 25, 27]\n"
     ]
    }
   ],
   "source": [
    "S = [15, 22, 13, 27, 12, 10, 20, 25]\n",
    "print(\"Before : \", S)\n",
    "quicksort(S, 0, len(S)-1)\n",
    "print(\"After : \", S)"
   ]
  },
  {
   "cell_type": "markdown",
   "metadata": {},
   "source": [
    "### (3) Partition 함수의 개선\n",
    "\n",
    "#### 1) 앞에서 구현한 함수의 경우, 인덱스 i, j의 위치가 혼선을 줄 수 있어, 개선 필요\n",
    "#### 2) 개선한 로직\n",
    "\n",
    "- input S = [26, 5, 37, 1, 61, 11, 59, 15, 48, 19]\n",
    "- pivot은 리스트의 가장 첫 값인 S[0] = 26인 상태에서, i는 S[1]부터 시작, j는 S[len(S)-1] 위치에서부터 역순으로 시작\n",
    "- i는 pivot보다 큰 값을 찾을 때까지 이동, j는 pivot보다 작은 값을 찾을 때까지 이동\n",
    "- S = [26, 5, 37(i 멈춤), 1, 61, 11, 59, 15, 48, 19(j 멈춤)] > i, j 값 서로 swap\n",
    "- S' = [26, 5, 19, 1, 61, 11, 59, 15, 48, 37]\n",
    "- i는 1씩 증가, j는 1씩 감소하며, i < j 일때까지 동일한 과정을 계속 반복\n",
    "- S' = [26, 5, 19, 1, 61(i 멈춤), 11, 59, 15(j 멈춤), 48, 37] > i, j swap\n",
    "- S'' = [26, 5, 19, 1, 15, 11, 59, 61, 48, 37]\n",
    "- S'' = [26, 5, 19, 1, 15, 11(j 멈춤), 59(i 멈춤), 61, 48, 37]\n",
    "- 각 i = 6, j = 5 상태에서, i < j 가 되면서 1차 루프 종료, j 위치의 값과 pivot의 값을 swap\n",
    "- S''' = [11, 5, 19, 1, 15] [26] [59, 61, 48, 37]\n",
    "- 첫 루프가 끝나고 나면, 첫 pivot을 기준으로 왼쪽에는 작은 값만, 오른쪽에는 큰 값만 남게 된다.\n",
    "- 재귀 호출을 통해, 각각의 분할된 부분에서 동일한 로직으로 최종적으로 정렬이 완료되는 방식\n",
    "\n",
    "#### 3) 개선된 partition 함수 구현 코드"
   ]
  },
  {
   "cell_type": "code",
   "execution_count": 26,
   "metadata": {},
   "outputs": [],
   "source": [
    "def partition2 (S, low, high):\n",
    "    pivotitem = S[low] # set S[0] as pivot\n",
    "    i = low + 1 # start from the next item of pivot\n",
    "    j = high # start from the end of list\n",
    "    while i <= j:\n",
    "        while S[i] < pivotitem:\n",
    "            i +=1\n",
    "        while S[j] > pivotitem:\n",
    "            j -=1\n",
    "        print(i,j,S)\n",
    "        if i<j:\n",
    "            S[i],S[j] = S[j], S[i] # swap!\n",
    "    pivotpoint = j\n",
    "    S[low], S[pivotpoint] = S[pivotpoint], S[low] # swap!\n",
    "    return pivotpoint"
   ]
  },
  {
   "cell_type": "code",
   "execution_count": 24,
   "metadata": {},
   "outputs": [],
   "source": [
    "def quicksort2(S, low, high):\n",
    "    if high > low:\n",
    "        pivotpoint = partition2(S, low, high)\n",
    "        quicksort2(S, low, pivotpoint-1)\n",
    "        quicksort2(S, pivotpoint+1, high)"
   ]
  },
  {
   "cell_type": "markdown",
   "metadata": {},
   "source": [
    "#### 4) 입력 예시"
   ]
  },
  {
   "cell_type": "code",
   "execution_count": 25,
   "metadata": {},
   "outputs": [
    {
     "name": "stdout",
     "output_type": "stream",
     "text": [
      "Before :  [26, 5, 37, 1, 61, 11, 59, 15, 48, 19]\n",
      "After :  [1, 5, 11, 15, 19, 26, 37, 48, 59, 61]\n"
     ]
    }
   ],
   "source": [
    "S = [26, 5, 37, 1, 61, 11, 59, 15, 48, 19]\n",
    "print(\"Before : \", S)\n",
    "quicksort2(S, 0, len(S)-1)\n",
    "print(\"After : \", S)"
   ]
  },
  {
   "cell_type": "code",
   "execution_count": 27,
   "metadata": {},
   "outputs": [
    {
     "name": "stdout",
     "output_type": "stream",
     "text": [
      "Before :  [26, 5, 37, 1, 61, 11, 59, 15, 48, 19]\n",
      "2 9 [26, 5, 37, 1, 61, 11, 59, 15, 48, 19]\n",
      "4 7 [26, 5, 19, 1, 61, 11, 59, 15, 48, 37]\n",
      "6 5 [26, 5, 19, 1, 15, 11, 59, 61, 48, 37]\n",
      "2 3 [11, 5, 19, 1, 15, 26, 59, 61, 48, 37]\n",
      "3 2 [11, 5, 1, 19, 15, 26, 59, 61, 48, 37]\n",
      "1 0 [1, 5, 11, 19, 15, 26, 59, 61, 48, 37]\n",
      "5 4 [1, 5, 11, 19, 15, 26, 59, 61, 48, 37]\n",
      "7 9 [1, 5, 11, 15, 19, 26, 59, 61, 48, 37]\n",
      "9 8 [1, 5, 11, 15, 19, 26, 59, 37, 48, 61]\n",
      "8 7 [1, 5, 11, 15, 19, 26, 48, 37, 59, 61]\n",
      "After :  [1, 5, 11, 15, 19, 26, 37, 48, 59, 61]\n"
     ]
    }
   ],
   "source": [
    "S = [26, 5, 37, 1, 61, 11, 59, 15, 48, 19]\n",
    "print(\"Before : \", S)\n",
    "quicksort2(S, 0, len(S)-1)\n",
    "print(\"After : \", S)"
   ]
  },
  {
   "cell_type": "markdown",
   "metadata": {},
   "source": [
    "#### 5) Quick Sort Algorithm의 성능이 최악으로 떨어지는 경우\n",
    "- 예시 : S = [1, 2, 3, 4, 5]\n",
    "- 잘 정렬된 리스트인 경우, 괜히 리스트를 섞어버리게 되므로, 성능이 떨어짐\n",
    "- 오히려 랜덤으로 뒤죽박죽 섞인 리스트를 정렬할 때 유용"
   ]
  },
  {
   "cell_type": "code",
   "execution_count": null,
   "metadata": {},
   "outputs": [],
   "source": []
  }
 ],
 "metadata": {
  "kernelspec": {
   "display_name": "Python 3",
   "language": "python",
   "name": "python3"
  },
  "language_info": {
   "codemirror_mode": {
    "name": "ipython",
    "version": 3
   },
   "file_extension": ".py",
   "mimetype": "text/x-python",
   "name": "python",
   "nbconvert_exporter": "python",
   "pygments_lexer": "ipython3",
   "version": "3.8.3"
  }
 },
 "nbformat": 4,
 "nbformat_minor": 4
}
