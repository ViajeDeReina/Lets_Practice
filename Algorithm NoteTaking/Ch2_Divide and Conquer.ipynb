{
 "cells": [
  {
   "cell_type": "markdown",
   "metadata": {},
   "source": [
    "# Python으로 배우는 Algorithm 기초\n",
    "\n",
    "# Ch 2. 분할 정복 알고리즘 Divide-and-Conquer"
   ]
  },
  {
   "cell_type": "markdown",
   "metadata": {},
   "source": [
    "## Ch 2.1 이분 검색 Binary Search"
   ]
  },
  {
   "cell_type": "markdown",
   "metadata": {},
   "source": [
    "### (1) 이분 검색 문제\n",
    "- 정렬되지 않은 리스트 S에서 주어진 키 x가 존재하는가? : 순차 탐색\n",
    "- 정렬된 리스트 S에서 주어진 키 x가 존재하는가? : 이분 검색\n",
    "> 재귀적 방법으로 이분 검색 로직 구상하기\n",
    "\n",
    "### (2) 분할정복 알고리즘으로서의 이분 검색\n",
    "#### 1) 문제 : 정렬된 리스트 S에서 어떤 키 x가 존재하는가?\n",
    "#### 2) 해답 : 존재하면 S에서의 x의 위치, 존재하지 않는 경우 -1을 반환\n",
    "#### 3) 분할정복법\n",
    "- S의 정가운데 원소와 x를 비교하여, 같으면 해당 위치를 반환\n",
    "- 아닌 경우\n",
    "- [Divide] 정가운데 원소를 기준으로 S를 두 개의 리스트로 분할\n",
    "- [Conquer] x가 정가운데 원소보다 크면 오른쪽, 작으면 왼쪽을 호출. 남은 반쪽은 버림.\n",
    "- [Obtain] 선택한 리스트에서 얻은 답을 반환"
   ]
  },
  {
   "cell_type": "markdown",
   "metadata": {},
   "source": [
    "#### 4) 코드 (Recursive)"
   ]
  },
  {
   "cell_type": "code",
   "execution_count": 2,
   "metadata": {},
   "outputs": [],
   "source": [
    "def binarySearch (S, x, low, high):\n",
    "    if low > high:\n",
    "        return -1\n",
    "    else:\n",
    "        mid = (low + high)//2\n",
    "        if x == S[mid]:\n",
    "            return mid\n",
    "        elif x < S[mid]:\n",
    "            return binarySearch(S, x, low, mid-1)\n",
    "        else:\n",
    "            return binarySearch(S, x, mid+1, high)"
   ]
  },
  {
   "cell_type": "code",
   "execution_count": 3,
   "metadata": {},
   "outputs": [
    {
     "name": "stdout",
     "output_type": "stream",
     "text": [
      "S =  [8, 10, 12, 13, 14, 18, 20, 25, 27, 30, 35, 40, 45]\n",
      "x =  18\n",
      "loc =  5\n"
     ]
    }
   ],
   "source": [
    "S = [8, 10, 12, 13, 14, 18, 20, 25, 27, 30, 35, 40, 45]\n",
    "x = 18\n",
    "loc = binarySearch(S, x, 0, len(S)-1)\n",
    "print(\"S = \", S)\n",
    "print(\"x = \", x)\n",
    "print(\"loc = \", loc)"
   ]
  },
  {
   "cell_type": "code",
   "execution_count": 4,
   "metadata": {},
   "outputs": [
    {
     "name": "stdout",
     "output_type": "stream",
     "text": [
      "S =  [8, 10, 12, 13, 14, 18, 20, 25, 27, 30, 35, 40, 45]\n",
      "y =  17\n",
      "loc2 =  -1\n"
     ]
    }
   ],
   "source": [
    "y = 17 # which doesn't exist in the list S\n",
    "loc2 = binarySearch(S, y, 0, len(S)-1)\n",
    "print(\"S = \", S)\n",
    "print(\"y = \", y)\n",
    "print(\"loc2 = \", loc2)"
   ]
  },
  {
   "cell_type": "markdown",
   "metadata": {},
   "source": [
    "## Ch 2.2 합병 정렬 Merge Sort"
   ]
  },
  {
   "cell_type": "markdown",
   "metadata": {},
   "source": [
    "### (1) 정렬되지 않은 리스트의 정렬\n",
    ": 기존에 교환정렬을 통한 리스트 정렬 (greedy algorithm에 가까운 형태)\n",
    "> 합병정렬을 통해 개선된 알고리즘 사용 가능 !\n",
    "\n",
    "### (2) 합병 정렬\n",
    "\n",
    "#### 1) Divide\n",
    ": 원소가 n개인 S를 n/2개의 원소를 가진 두 개의 리스트로 분할\n",
    "#### 2) Conquer\n",
    ": 왼쪽의 리스트와 오른쪽의 리스트를 각각 재귀적으로 합병해 정렬\n",
    "#### 3) Combine\n",
    ": 각각 정렬된 두 개의 리스트를 정렬된 하나의 리스트로 합병하여 리턴\n",
    "#### 4) 정렬 방식\n",
    ": merge 과정에서 대소 비교해서 정렬"
   ]
  },
  {
   "cell_type": "markdown",
   "metadata": {},
   "source": [
    "#### input S = [27, 10, 12, 20 | 25, 13, 15, 22]\n",
    "divide\n",
    "####                 [27, 10 | 12, 20] [25, 13 | 15, 22]\n",
    "divide\n",
    "####                [27 | 10] [12 | 20] [25 | 13] [15 | 22]\n",
    "divide\n",
    "####               [27] [10] [12] [20] [25] [13] [15] [22]\n",
    "#### merge   [10, 27] [12, 20]   [13, 25] [15, 22]\n",
    "#### merge   [10, 12, 20, 27]    [13, 15, 22, 25]\n",
    "#### merge   [10, 12, 13, 15, 20, 22, 25, 27]"
   ]
  },
  {
   "cell_type": "markdown",
   "metadata": {},
   "source": [
    "#### 5) 코드"
   ]
  },
  {
   "cell_type": "code",
   "execution_count": 5,
   "metadata": {},
   "outputs": [],
   "source": [
    "def mergesort(S):\n",
    "    n = len(S)\n",
    "    if n <= 1:\n",
    "        return S\n",
    "    else :\n",
    "        mid = n//2\n",
    "        U = mergesort(S[0:mid])\n",
    "        V = mergesort(S[mid:n])\n",
    "        return merge(U, V)\n",
    "\n",
    "def merge(U, V):\n",
    "    S = []\n",
    "    i = j = 0\n",
    "    while (i < len(U)) & (j < len(V)):\n",
    "        if U[i] < V[j]:\n",
    "            S.append(U[i])\n",
    "            i += 1\n",
    "        else:\n",
    "            S.append(V[j])\n",
    "            j += 1\n",
    "    if i < len(U):\n",
    "        S += U[i:len(U)]\n",
    "    else :\n",
    "        S += V[j:len(V)]\n",
    "    return S"
   ]
  },
  {
   "cell_type": "markdown",
   "metadata": {},
   "source": [
    "#### 6) 입력 사례 확인"
   ]
  },
  {
   "cell_type": "code",
   "execution_count": 6,
   "metadata": {},
   "outputs": [
    {
     "name": "stdout",
     "output_type": "stream",
     "text": [
      "Before :  [27, 10, 12, 20, 25, 13, 15, 22]\n",
      "After :  [10, 12, 13, 15, 20, 22, 25, 27]\n"
     ]
    }
   ],
   "source": [
    "S = [27, 10, 12, 20, 25, 13, 15, 22]\n",
    "print(\"Before : \", S)\n",
    "X = mergesort(S)\n",
    "print(\"After : \", X)"
   ]
  },
  {
   "cell_type": "code",
   "execution_count": 7,
   "metadata": {},
   "outputs": [
    {
     "name": "stdout",
     "output_type": "stream",
     "text": [
      "[27]\n",
      "[10]\n",
      "[12]\n",
      "[20]\n",
      "[10, 27]\n",
      "[12, 20]\n",
      "[25]\n",
      "[13]\n",
      "[15]\n",
      "[22]\n",
      "[13, 25]\n",
      "[15, 22]\n",
      "[10, 12, 20, 27]\n",
      "[13, 15, 22, 25]\n",
      "[10, 12, 13, 15, 20, 22, 25, 27]\n"
     ]
    }
   ],
   "source": [
    "def mergesort_detail(S):\n",
    "    n = len(S)\n",
    "    if n <= 1:\n",
    "        return S\n",
    "    else :\n",
    "        mid = n//2\n",
    "        U = mergesort_detail(S[0:mid])\n",
    "        V = mergesort_detail(S[mid:n])\n",
    "        print(U)\n",
    "        print(V)\n",
    "        return merge(U, V)\n",
    "\n",
    "Y = mergesort_detail(S)\n",
    "print(Y)"
   ]
  },
  {
   "cell_type": "markdown",
   "metadata": {},
   "source": [
    "### (3) 합병정렬 알고리즘의 개선\n",
    "#### 1)  기존 알고리즘의 문제점\n",
    "- 입력 리스트 S 이외에 리스트 U, V를 추가적으로 사용\n",
    "> 메모리 사용의 비효율성이 발생. 더 효율적인 방법 필요\n",
    "- 추가적으로 만들어지는 리스트 원소의 수가 너무 많아지는 문제\n",
    "- mergesort() 호출 시, 새로운 리스트 U와 V를 생성\n",
    "- 첫번째 재귀 호출 시 원소 수 : U n/2개, V n/2개\n",
    "- 두번째 재귀 호출 시 원소 수 : U n/4개, V n/4개\n",
    "...\n",
    "- 전체 재귀 호출 시 원소 개수 : n + n/2 + n/4 + ... = 약 2n\n",
    "\n",
    "#### 2) 개선된 코드"
   ]
  },
  {
   "cell_type": "code",
   "execution_count": 15,
   "metadata": {},
   "outputs": [],
   "source": [
    "def mergesort2(S, low, high):\n",
    "    if low < high:\n",
    "        mid = (low + high)//2\n",
    "        mergesort2(S, low, mid) # previously U\n",
    "        mergesort2(S, mid+1, high) #previously V\n",
    "        print(S[low:high+1])\n",
    "        merge2(S, low, mid, high)\n",
    "        \n",
    "def merge2(S, low, mid, high):\n",
    "    U = [] # as temporary array list\n",
    "    i = low\n",
    "    j = mid + 1\n",
    "    while (i <= mid) & (j <= high):\n",
    "        if (S[i] < S[j]):\n",
    "            U.append(S[i])\n",
    "            i += 1\n",
    "        else:\n",
    "            U.append(S[j])\n",
    "            j += 1\n",
    "    if i <= mid:\n",
    "        U += S[i:mid + 1]\n",
    "    else:\n",
    "        U += S[j:high + 1]\n",
    "    for k in range(low, high+1):\n",
    "        S[k] = U[k-low]"
   ]
  },
  {
   "cell_type": "code",
   "execution_count": 16,
   "metadata": {},
   "outputs": [
    {
     "name": "stdout",
     "output_type": "stream",
     "text": [
      "Before :  [27, 10, 12, 20, 25, 13, 15, 22]\n",
      "[27, 10]\n",
      "[12, 20]\n",
      "[10, 27, 12, 20]\n",
      "[25, 13]\n",
      "[15, 22]\n",
      "[13, 25, 15, 22]\n",
      "[10, 12, 20, 27, 13, 15, 22, 25]\n",
      "After :  [10, 12, 13, 15, 20, 22, 25, 27]\n"
     ]
    }
   ],
   "source": [
    "S = [27, 10, 12, 20, 25, 13, 15, 22]\n",
    "print(\"Before : \", S)\n",
    "mergesort2(S, 0, len(S)-1)\n",
    "print(\"After : \", S)"
   ]
  },
  {
   "cell_type": "code",
   "execution_count": null,
   "metadata": {},
   "outputs": [],
   "source": []
  }
 ],
 "metadata": {
  "kernelspec": {
   "display_name": "Python 3",
   "language": "python",
   "name": "python3"
  },
  "language_info": {
   "codemirror_mode": {
    "name": "ipython",
    "version": 3
   },
   "file_extension": ".py",
   "mimetype": "text/x-python",
   "name": "python",
   "nbconvert_exporter": "python",
   "pygments_lexer": "ipython3",
   "version": "3.8.3"
  }
 },
 "nbformat": 4,
 "nbformat_minor": 4
}
