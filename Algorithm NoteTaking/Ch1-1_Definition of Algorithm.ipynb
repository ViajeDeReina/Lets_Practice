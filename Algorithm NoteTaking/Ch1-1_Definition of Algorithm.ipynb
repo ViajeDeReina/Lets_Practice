{
 "cells": [
  {
   "cell_type": "markdown",
   "metadata": {},
   "source": [
    "# Python으로 배우는 Algorithm 기초"
   ]
  },
  {
   "cell_type": "markdown",
   "metadata": {},
   "source": [
    "## Ch 1.1  알고리즘이란?"
   ]
  },
  {
   "cell_type": "markdown",
   "metadata": {},
   "source": [
    "### (1) 알고리즘이란 무엇인가?\n",
    "\n",
    "#### 1) 정의\n",
    ": 어떤 문제를 컴퓨터로 풀기 위한 효율적인 절차, 문제를 푸는 단계별 절차를 명확하게 기술\n",
    "#### 2) 목적\n",
    ": 어떤 문제를 컴퓨터로 해결하는 방법을 공부 -> 특정 프로그래밍 언어, 문법과 무관하게 통용되는 것. \n",
    "다양한 문제해결 방법 (= 알고리즘 설계기법)을 공부, 알고리즘 문제를 이해, 효율적 해결방법을 공부\n",
    "#### 3) 문제와 해답\n",
    ": 문제는 해답을 찾으려고 물어보는 질문, Parameter는 문제에서 특정한 값이 지정되어 있지 않은 변수.\n",
    "입력 사례 - 문제의 parameter에 지정된 특정한 값, instance\n",
    "\n",
    "#### >>  ALGORITHM : 어떤 문제의 \"모든\" 입력 사례에 대해 해답을 찾아주는 단계별 절차"
   ]
  },
  {
   "cell_type": "markdown",
   "metadata": {},
   "source": [
    "### (2) 기본 알고리즘 - 순차탐색 (Sequential Search)\n",
    "#### 1) 문제\n",
    ": 어떤 수 x가 n개의 수로 구성된 리스트(배열)S 내에 존재하는가?\n",
    "#### 2) 해답\n",
    ": x가 존재하면 x의 인덱스를, 없으면 -1을 출력하게 한다.\n",
    "#### 3) Parameter\n",
    ": 정수 n, 리스트 S, 원소 x\n",
    "#### 4) 입력 사례\n",
    ": S = [0, 10, 7, 11, 5, 13, 8], n = 7, x = 5\n",
    "#### 5) 코드"
   ]
  },
  {
   "cell_type": "code",
   "execution_count": 6,
   "metadata": {},
   "outputs": [],
   "source": [
    "def seqsearch(s,x):\n",
    "    loc = 0\n",
    "    while (loc <=len(s)) & (s[loc] != x):\n",
    "        loc += 1\n",
    "    if loc > len(s):\n",
    "        loc = -1\n",
    "    return loc"
   ]
  },
  {
   "cell_type": "markdown",
   "metadata": {},
   "source": [
    "#### 6) 입력 사례를 이용해 알고리즘 확인"
   ]
  },
  {
   "cell_type": "code",
   "execution_count": 5,
   "metadata": {},
   "outputs": [
    {
     "name": "stdout",
     "output_type": "stream",
     "text": [
      "4\n"
     ]
    }
   ],
   "source": [
    "n = 7\n",
    "s = [0, 10, 7, 11, 5, 13, 8]\n",
    "x = 5\n",
    "\n",
    "result = seqsearch(s,x)\n",
    "print(result)"
   ]
  },
  {
   "cell_type": "markdown",
   "metadata": {},
   "source": [
    "### (3) 기본 알고리즘 - 교환정렬 (Exchange Sort)\n",
    "#### 1) 문제\n",
    ": n개의 수로 구성된 리스트 S를 오름차순으로 정렬하시오.\n",
    "#### 2) 해답\n",
    ": S를 오름차순으로 정렬한 리스트를 출력\n",
    "#### 3) parameter\n",
    ": S, n\n",
    "#### 4) 입력 사례\n",
    ": n = 6, S = [10, 7, 11, 5, 13, 8]\n",
    "\n",
    "#### 5) algorithm\n",
    ": 모든 S에 대해서 오름차순 정렬된 S'를 찾아주는 단계별 절차\n",
    "> 정렬 알고리즘에는 교환정렬, 삽입정렬, 선택정렬, 합병정렬, 퀵정렬 등 매우 다양한 방법이 있다. 여기에선 가장 단순한 방식인 교환정렬을 차용.\n",
    "#### 6) 코드\n",
    ": i번쨰 자리의 수와 i+1부터 n까지의 수를 비교, i번째가 더 작으면 둘의 위치를 바꾸는 방식. for문을 처음 한번 돌고 나면, 가장 작은 수가 맨 앞 첫자리로 가게 된다. 이러한 방식으로 모든 루프를 돌고나면 오름차순 완성."
   ]
  },
  {
   "cell_type": "code",
   "execution_count": 11,
   "metadata": {},
   "outputs": [],
   "source": [
    "def exchange(s):\n",
    "    for i in range(len(s)-1): #len(s)까지 가지 않고 len(s)-1까지만 가는 것은 for j 구문에서 i+1부터 시작, 넘치지 않기 위함이다!\n",
    "        for j in range(i+1, len(s)):\n",
    "            if s[i]>s[j]:\n",
    "                s[i], s[j] = s[j], s[i] #Python에선 이런 식으로도 swap이 가능합니다.\n",
    "    return s"
   ]
  },
  {
   "cell_type": "markdown",
   "metadata": {},
   "source": [
    "#### 7) 입력사례를 이용해 알고리즘 확인"
   ]
  },
  {
   "cell_type": "code",
   "execution_count": 19,
   "metadata": {},
   "outputs": [
    {
     "name": "stdout",
     "output_type": "stream",
     "text": [
      "before change :  [10, 7, 11, 5, 13, 8]\n",
      "After change :  [5, 7, 8, 10, 11, 13]\n"
     ]
    }
   ],
   "source": [
    "n = 6\n",
    "s = [10, 7, 11, 5, 13, 8]\n",
    "print(\"before change : \", s)\n",
    "print(\"After change : \", s2)"
   ]
  },
  {
   "cell_type": "markdown",
   "metadata": {},
   "source": [
    "#### 8) 중간 과정을 확인하기 위해 코드를 일부 수정해서, 확인해보자 !"
   ]
  },
  {
   "cell_type": "code",
   "execution_count": 20,
   "metadata": {},
   "outputs": [
    {
     "name": "stdout",
     "output_type": "stream",
     "text": [
      "[5, 10, 11, 7, 13, 8]\n",
      "[5, 7, 11, 10, 13, 8]\n",
      "[5, 7, 8, 11, 13, 10]\n",
      "[5, 7, 8, 10, 13, 11]\n",
      "[5, 7, 8, 10, 11, 13]\n",
      "After change :  [5, 7, 8, 10, 11, 13]\n"
     ]
    }
   ],
   "source": [
    "s = [10, 7, 11, 5, 13, 8]\n",
    "\n",
    "def exchange2(s):\n",
    "    for i in range(len(s)-1):\n",
    "        for j in range(i+1, len(s)):\n",
    "            if s[i]>s[j]:\n",
    "                s[i], s[j] = s[j], s[i]\n",
    "        print(s)\n",
    "    return s\n",
    "\n",
    "s3 = exchange2(s)\n",
    "print(\"After change : \", s3)"
   ]
  },
  {
   "cell_type": "markdown",
   "metadata": {},
   "source": [
    "### (4) 기본 알고리즘 - 행렬의 곱셈 문제\n",
    "#### 1) 문제\n",
    ": 두 n x n 행렬의 곱을 구하시오.\n",
    "#### 2) 입력사례 : n = 2\n",
    "A = [ [a11, a12], [a21, a22] ], B = [ [b11, b12], [b21, b22] ], C = A x B\n",
    "> A = [ [2, 3], [4, 1] ], B = [ [5, 7], [6, 8], C = [ [28, 38], [26, 36] ]\n",
    ">> 2 x 2 행렬의 경우, 일반식은 다음과 같이 구할 수 있다 : Cij = ai1 * b1j + ai2*b2j\n",
    "#### 3) n x n으로 일반식을 구하는 경우 : Cij = Σaik * bkj (1 <= i, j <= n)\n",
    "#### 4) 코드"
   ]
  },
  {
   "cell_type": "code",
   "execution_count": 28,
   "metadata": {},
   "outputs": [],
   "source": [
    "def matrixmult(n, a, b):\n",
    "    c = [[0]* n for _ in range(n)] # 결과 행렬 C의 공간을 확보 사이즈가 n개인 리스트를 n개 생성한다.\n",
    "    for i in range(n):\n",
    "        for j in range(n):\n",
    "            for k in range(n):\n",
    "                c[i][j] += a[i][k]*b[k][j] # 일반식에서 Σ 였다는 것을 잊지 말 것.\n",
    "    return c"
   ]
  },
  {
   "cell_type": "markdown",
   "metadata": {},
   "source": [
    "#### 5) 입력사례를 이용해 알고리즘 확인"
   ]
  },
  {
   "cell_type": "code",
   "execution_count": 27,
   "metadata": {},
   "outputs": [
    {
     "data": {
      "text/plain": [
       "[[28, 38], [26, 36]]"
      ]
     },
     "execution_count": 27,
     "metadata": {},
     "output_type": "execute_result"
    }
   ],
   "source": [
    "A = [[2, 3], [4, 1]]\n",
    "B = [[5, 7], [6, 8]]\n",
    "C = matrixmult(2, A, B)\n",
    "C"
   ]
  },
  {
   "cell_type": "code",
   "execution_count": null,
   "metadata": {},
   "outputs": [],
   "source": []
  }
 ],
 "metadata": {
  "kernelspec": {
   "display_name": "Python 3",
   "language": "python",
   "name": "python3"
  },
  "language_info": {
   "codemirror_mode": {
    "name": "ipython",
    "version": 3
   },
   "file_extension": ".py",
   "mimetype": "text/x-python",
   "name": "python",
   "nbconvert_exporter": "python",
   "pygments_lexer": "ipython3",
   "version": "3.8.3"
  }
 },
 "nbformat": 4,
 "nbformat_minor": 4
}
